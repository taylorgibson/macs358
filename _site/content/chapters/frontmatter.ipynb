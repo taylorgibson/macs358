{
 "cells": [
  {
   "cell_type": "markdown",
   "metadata": {},
   "source": [
    "# Front Matter\n",
    "\n",
    "Written by Taylor Gibson"
   ]
  },
  {
   "cell_type": "markdown",
   "metadata": {},
   "source": [
    "## Resources\n",
    "\n",
    "* Python Code Vizualization Tool\n",
    "[https://cscircles.cemc.uwaterloo.ca/visualize#mode=display](https://cscircles.cemc.uwaterloo.ca/visualize#mode=display)\n",
    "\n",
    "\n",
    "* The Mathematics of Encryption\n",
    "[https://bookstore.ams.org/mawrld-29](https://bookstore.ams.org/mawrld-29)"
   ]
  }
 ],
 "metadata": {
  "kernelspec": {
   "display_name": "Python 3",
   "language": "python",
   "name": "python3"
  },
  "language_info": {
   "codemirror_mode": {
    "name": "ipython",
    "version": 3
   },
   "file_extension": ".py",
   "mimetype": "text/x-python",
   "name": "python",
   "nbconvert_exporter": "python",
   "pygments_lexer": "ipython3",
   "version": "3.7.3"
  }
 },
 "nbformat": 4,
 "nbformat_minor": 2
}
