{
 "cells": [
  {
   "cell_type": "markdown",
   "metadata": {},
   "source": [
    "# MA/CS 358: Final Project: Bifid Cipher - Spring 2020\n",
    "*Please complete this notebook by filling in the code cells as indicated.*"
   ]
  },
  {
   "cell_type": "markdown",
   "metadata": {},
   "source": [
    "Double-click into this cell, type your name, and run the cell to finalize the changes.\n",
    "\n",
    "**Name:** -----"
   ]
  },
  {
   "cell_type": "markdown",
   "metadata": {},
   "source": [
    "## 0. Run The Cell Below Everytime You Log In\n",
    "\n",
    "To get you started, run the cell below to load the autograder and toolkit for the final project. Every function we've used in the course should be available to you in the toolkit."
   ]
  },
  {
   "cell_type": "code",
   "execution_count": null,
   "metadata": {},
   "outputs": [],
   "source": [
    "import otter\n",
    "grader = otter.Notebook('tests')\n",
    "from final_toolkit import *"
   ]
  },
  {
   "cell_type": "markdown",
   "metadata": {},
   "source": [
    "# 1. The Polybius Square (14 total points)\n",
    "\n",
    "This cipher uses a 5x5 square of characters as part of the encryption scheme. The default Polybius square is in the form:\n",
    "\n",
    "||||||\n",
    "|---|---|---|---|---|\n",
    "|A|B|C|D|E|\n",
    "|F|G|H|I/J|K|\n",
    "|L|M|N|O|P|\n",
    "|Q|R|S|T|U|\n",
    "|V|W|X|Y|Z|\n",
    "\n",
    "A key could be used to reorder the alphabet in the square, with the letters (without duplicates) of the key being placed at the beginning with the rest of the alphabet following it in regular order. For example, the key phrase `polybius cipher` would lead to the reordered square below.\n",
    "\n",
    "||||||\n",
    "|---|---|---|---|---|\n",
    "|P|O|L|Y|B|\n",
    "|I/J|U|S|C|H|\n",
    "|E|R|A|D|F|\n",
    "|G|K|M|N|Q|\n",
    "|T|V|W|X|Z|\n",
    "\n",
    "For this assignment, represent the polybius square using a list of lists. For example, the default and key word polybius squares would be the objects:"
   ]
  },
  {
   "cell_type": "code",
   "execution_count": null,
   "metadata": {},
   "outputs": [],
   "source": [
    "default_square = [ ['A', 'B', 'C', 'D', 'E'],\n",
    "                   ['F', 'G', 'H', 'I', 'K'],\n",
    "                   ['L', 'M', 'N', 'O', 'P'],\n",
    "                   ['Q', 'R', 'S', 'T', 'U'],\n",
    "                   ['V', 'W', 'X', 'Y', 'Z'] ]\n",
    "\n",
    "keyword_square = [ ['P', 'O', 'L', 'Y', 'B'],\n",
    "                   ['I', 'U', 'S', 'C', 'H'],\n",
    "                   ['E', 'R', 'A', 'D', 'F'],\n",
    "                   ['G', 'K', 'M', 'N', 'Q'],\n",
    "                   ['T', 'V', 'W', 'X', 'Z'] ]"
   ]
  },
  {
   "cell_type": "markdown",
   "metadata": {},
   "source": [
    "These lists will be used in the sample test cases in the problems below.\n",
    "\n",
    "Note that when creating these objects, only the character `I` was used, not `I/J`. For this assignment, both `I` and `J` should be treated as the character `I`. This will create some odd plaintext messages when deciphering, but humans are good at reading `I`'s as `J`'s when needed. Now stop and give me `10 Iumping Iacks`!"
   ]
  },
  {
   "cell_type": "markdown",
   "metadata": {},
   "source": [
    "## Part A: Creating the Square (4 pts)\n",
    "\n",
    "Write a function that creates the list of lists that represents the Polybius Square. It should be capable of taking in a key word to re-order the characters, but if one is not provided it should revert to the default square described above.\n",
    "\n",
    "**Criteria:**\n",
    "1. The function must be named `polybius_square_gen` exactly\n",
    "2. The function must have exactly 1 input arguments:\n",
    "   * `key` (str, optional): the value for the key word to be used to generate the list of lists. Should default to `'ABCDEFGHIKLMNOPQRSTUVWXYZ'` (notice no `J`)\n",
    "3. The function must return a `list` object that contains 5 sub-lists, one for each row in the square. Each sublist should contain 5 elements, each a single character string.\n",
    "4. Any `J`'s included in a keyword should be replaced with `I`'s before creating the square\n",
    "5. The keyword should be cleaned in case it uses lower-case letters or symbols.\n",
    "\n",
    "**Sample Test Cases**:\n",
    "```\n",
    ">>> polybius_square_gen()\n",
    "[['A', 'B', 'C', 'D', 'E'], ['F', 'G', 'H', 'I', 'K'], ['L', 'M', 'N', 'O', 'P'], ['Q', 'R', 'S', 'T', 'U'], ['V', 'W', 'X', 'Y', 'Z']]\n",
    "\n",
    "\n",
    ">>> polybius_square_gen( 'Polybius Cipher' )\n",
    "[['P', 'O', 'L', 'Y', 'B'], ['I', 'U', 'S', 'C', 'H'], ['E', 'R', 'A', 'D', 'F'], ['G', 'K', 'M', 'N', 'Q'], ['T', 'V', 'W', 'X', 'Z']]\n",
    "\n",
    ">>> polybius_square_gen( key = 'Long Jump' )\n",
    "[['L', 'O', 'N', 'G', 'I'], ['U', 'M', 'P', 'A', 'B'], ['C', 'D', 'E', 'F', 'H'], ['K', 'Q', 'R', 'S', 'T'], ['V', 'W', 'X', 'Y', 'Z']]\n",
    "\n",
    "```"
   ]
  },
  {
   "cell_type": "code",
   "execution_count": null,
   "metadata": {},
   "outputs": [],
   "source": [
    "def polybius_square_gen( key = 'ABCDEFGHIKLMNOPQRSTUVWXYZ'):\n",
    "    \n",
    "    square = [[],[],[],[],[]]\n",
    "\n",
    "    \n",
    "    return square"
   ]
  },
  {
   "cell_type": "code",
   "execution_count": null,
   "metadata": {},
   "outputs": [],
   "source": [
    "### Running this cell will check your answer for Question 1a\n",
    "grader.check('final-polybius-1a')"
   ]
  },
  {
   "cell_type": "markdown",
   "metadata": {},
   "source": [
    "## Part B: Accessing Characters (2 pts)\n",
    "\n",
    "For this cipher, it will be helpful to be able to provide a row and column number and determine which character is located there. Write a function that takes in the row and column number and returns the character located there. The first row and column should be considered to be row 1 and column 1 respectively.\n",
    "\n",
    "**Criteria:**\n",
    "1. The function must be named `polybius_square_character` exactly\n",
    "2. The function must have exactly 3 input arguments:\n",
    "   * `square` (list): the list of lists that represents the polybius square\n",
    "   * `row` (int): the value for the row\n",
    "   * `col` (int): the value for the column\n",
    "3. The function must return a `str` object that contains a single character\n",
    "\n",
    "**Hint:** This should be a _very_ short function. If you're good you can get by with _just_ a return statement! In fact, you almost don't need a function for this, but it's helpful to have a function name that can be called to perform this operation.\n",
    "\n",
    "**Sample Test Cases**:\n",
    "```\n",
    ">>> polybius_square_character( default_square, 1, 2 )\n",
    "'B'\n",
    "\n",
    ">>> polybius_square_character( keyword_square, 5, 4 )\n",
    "'X'\n",
    "```"
   ]
  },
  {
   "cell_type": "code",
   "execution_count": null,
   "metadata": {},
   "outputs": [],
   "source": [
    "def polybius_square_character( square, row, col ):\n"
   ]
  },
  {
   "cell_type": "code",
   "execution_count": null,
   "metadata": {},
   "outputs": [],
   "source": [
    "### Running this cell will check your answer for Question 1b\n",
    "grader.check('final-polybius-1b')"
   ]
  },
  {
   "cell_type": "markdown",
   "metadata": {},
   "source": [
    "## Part C: Determining Row Number (4 pts)\n",
    "\n",
    "For this cipher, it will be helpful to know in which row and column a given character can be located. Write a function that takes in a character and returns the row number where it's located.\n",
    "\n",
    "**Criteria:**\n",
    "1. The function must be named `polybius_square_row` exactly\n",
    "2. The function must have exactly 2 input arguments:\n",
    "   * `square` (list): the list of lists that represents the polybius square\n",
    "   * `letter` (str): the letter whose row number is being determined\n",
    "3. The function must return a `int` object that represents the row number\n",
    "\n",
    "**Hint:** Iterate over the possible row and column numbers for the polybius square and check to see if the current row/column number matches the passed in character. If it is, return the value for the row. If not, keep going. You're guaranteed to find it evenually! Don't forget, the rows in the Polybius square start at 1, while in a list the first element is at index 0.\n",
    "\n",
    "**Sample Test Cases**:\n",
    "```\n",
    ">>> polybius_square_row( default_square, 'A' )\n",
    "1\n",
    "\n",
    ">>> polybius_square_row( default_square, 'P' )\n",
    "3\n",
    "\n",
    ">>> polybius_square_row( keyword_square, 'A' )\n",
    "3\n",
    "```"
   ]
  },
  {
   "cell_type": "code",
   "execution_count": null,
   "metadata": {},
   "outputs": [],
   "source": [
    "def polybius_square_row( square, letter ):\n"
   ]
  },
  {
   "cell_type": "code",
   "execution_count": null,
   "metadata": {},
   "outputs": [],
   "source": [
    "### Running this cell will check your answer for Question 1c\n",
    "grader.check('final-polybius-1c')"
   ]
  },
  {
   "cell_type": "markdown",
   "metadata": {},
   "source": [
    "## Part D: Determining Column Number (4 pts)\n",
    "\n",
    "For this cipher, it will be helpful to know in which row and column a given character can be located. Write a function that takes in a character and returns the column number where it's located.\n",
    "\n",
    "**Criteria:**\n",
    "1. The function must be named `polybius_square_col` exactly\n",
    "2. The function must have exactly 2 input arguments:\n",
    "   * `square` (list): the list of lists that represents the polybius square\n",
    "   * `letter` (str): the letter whose column number is being determined\n",
    "3. The function must return a `int` object that represents the column number\n",
    "\n",
    "**Hint:** Iterate over the possible row and column numbers for the polybius square and check to see if the current row/column number matches the passed in character. If it is, return the value for the column. If not, keep going. You're guaranteed to find it evenually! Don't forget, the columns in the Polybius square start at 1, while in a list the first element is at index 0.\n",
    "\n",
    "**Sample Test Cases**:\n",
    "```\n",
    ">>> polybius_square_col( default_square, 'A' )\n",
    "1\n",
    "\n",
    ">>> polybius_square_col( default_square, 'P' )\n",
    "5\n",
    "\n",
    ">>> polybius_square_col( keyword_square, 'K' )\n",
    "2\n",
    "```"
   ]
  },
  {
   "cell_type": "code",
   "execution_count": 7,
   "metadata": {},
   "outputs": [],
   "source": [
    "def polybius_square_col( square, letter ):\n",
    "    "
   ]
  },
  {
   "cell_type": "code",
   "execution_count": null,
   "metadata": {},
   "outputs": [],
   "source": [
    "### Running this cell will check your answer for Question 1d\n",
    "grader.check('final-polybius-1d')"
   ]
  },
  {
   "cell_type": "markdown",
   "metadata": {},
   "source": [
    "# 2. Coordinate Manipulation (16 total points)\n",
    "\n",
    "Bifid requires a lot of work with characters and their corresponding coordinates in the Polybius square. There will be 3 main representations that are used that we'll name as follows.\n",
    "\n",
    "1. Character: \n",
    "```\n",
    "HI\n",
    "```\n",
    "2. 2-row vertically oriented coordinates (vertical)\n",
    "```\n",
    "H I\n",
    "5 3\n",
    "2 1\n",
    "```\n",
    "3. 1-row horizontally oriented coordinates (horizontal).\n",
    "```\n",
    "53 21\n",
    "Y  Q\n",
    "```\n",
    "\n",
    "All the examples below will use the following Polybius Square:\n",
    "```\n",
    "  1 2 3 4 5\n",
    "1 B G W K Z\n",
    "2 Q P N D S\n",
    "3 I O A X E\n",
    "4 F C L U M\n",
    "5 T H Y V R\n",
    "````\n",
    "\n",
    "## Part A: Letters to Vertical Coordinates (4 pts)\n",
    "Encrypting with the bifid cipher requires that each character be represented by its row and column number, written as a 2-row vertically oriented coordinate.\n",
    "\n",
    "For example:\n",
    "\n",
    "```\n",
    "plaintext: Flee at once\n",
    "\n",
    "F L E E A T O N C E\n",
    "4 4 3 3 3 5 3 2 4 3\n",
    "1 3 5 5 3 1 2 3 2 5\n",
    "```\n",
    "\n",
    "Write a function that does this, where the function returns a list of 2 lists, the first sublist contains the row numbers and the second sublist contains the column numbers.\n",
    "\n",
    "**Criteria:**\n",
    "1. The function must be named `bifid_char_to_vertical` exactly\n",
    "2. The function must have exactly 2 input arguments:\n",
    "   * `square` (list): the list of lists that represents the polybius square\n",
    "   * `text` (str): the plaintext that will be converted to 2-row vertical orientation of coordinates\n",
    "3. The function must return a `list` object that contains two sub-lists. The first sub-list contains integers that represent the row number for each character, and the second sub-list contains integers that represent the column number for each character\n",
    "\n",
    "**Sample Test Cases**:\n",
    "```\n",
    ">>> bifid_char_to_vertical( default_square, 'HEY')\n",
    "[[2, 1, 5], [3, 5, 4]]\n",
    "\n",
    ">>> bifid_char_to_vertical( keyword_square, 'HEY')\n",
    "[[2, 3, 1], [5, 1, 4]]\n",
    "\n",
    ">>> bifid_char_to_vertical( default_square, 'This is a long message')\n",
    "[[4, 2, 2, 4, 2, 4, 1, 3, 3, 3, 2, 3, 1, 4, 4, 1, 2, 1],\n",
    " [4, 3, 4, 3, 4, 3, 1, 1, 4, 3, 2, 2, 5, 3, 3, 1, 2, 5]]\n",
    "```"
   ]
  },
  {
   "cell_type": "code",
   "execution_count": null,
   "metadata": {},
   "outputs": [],
   "source": [
    "def bifid_char_to_vertical( square, text ):\n",
    "\n",
    "    coordinates = [ [], [] ]\n",
    "    \n",
    "\n",
    "    \n",
    "    return coordinates"
   ]
  },
  {
   "cell_type": "code",
   "execution_count": null,
   "metadata": {},
   "outputs": [],
   "source": [
    "### Running this cell will check your answer for Question 2a\n",
    "grader.check('final-bifid-2a')"
   ]
  },
  {
   "cell_type": "markdown",
   "metadata": {},
   "source": [
    "## Part B: Vertical Coordinates to Horizontal (2 pts)\n",
    "Once you have the coordinates for each character written in the 2-row vertical orientation, now you need to create a 1-row horizontal representation of the coordinate values with row numbers first followed by column numbers.\n",
    "\n",
    "```\n",
    "F L E E A T O N C E\n",
    "4 4 3 3 3 5 3 2 4 3\n",
    "1 3 5 5 3 1 2 3 2 5\n",
    "\n",
    "becomes\n",
    "\n",
    "4 4 3 3 3 5 3 2 4 3 1 3 5 5 3 1 2 3 2 5\n",
    "```\n",
    "\n",
    "Write a function that transforms the 2-row vertical orientation to the 1-row horizontal orienation, following the rules of the bifid cipher (row numbers first followed by column numbers)\n",
    "\n",
    "**Criteria:**\n",
    "1. The function must be named `bifid_vertical_to_horizontal` exactly\n",
    "2. The function must have exactly 1 input arguments:\n",
    "   * `vcoordinates` (list): the list of lists that represents the 2-row vertical orientation\n",
    "3. The function must return a `list` object that contains only integers. The first half of the integers should correspond to the first sub-list in `vcoordinates` (row numbers of plaintext) and the second half of integers should correspond to the second sub-list in `vcoordinates` (column numbers of plaintext)\n",
    "\n",
    "**Sample Test Cases**:\n",
    "```\n",
    ">>> bifid_vertical_to_horizontal( [[2, 1, 5], [3, 5, 4]] )\n",
    "[2, 1, 5, 3, 5, 4]\n",
    "\n",
    ">>> bifid_vertical_to_horizontal( [[2, 3, 1], [5, 1, 4]] )\n",
    "[2, 3, 1, 5, 1, 4]\n",
    "\n",
    ">>> bifid_vertical_to_horizontal( [[4, 2, 2, 4, 2, 4, 1, 3, 3, 3, 2, 3, 1, 4, 4, 1, 2, 1], [4, 3, 4, 3, 4, 3, 1, 1, 4, 3, 2, 2, 5, 3, 3, 1, 2, 5]] )\n",
    "[4, 2, 2, 4, 2, 4, 1, 3, 3, 3, 2, 3, 1, 4, 4, 1, 2, 1, 4, 3, 4, 3, 4, 3, 1, 1, 4, 3, 2, 2, 5, 3, 3, 1, 2, 5]\n",
    "```"
   ]
  },
  {
   "cell_type": "code",
   "execution_count": null,
   "metadata": {},
   "outputs": [],
   "source": [
    "def bifid_vertical_to_horizontal( vcoordinates ):\n",
    "    "
   ]
  },
  {
   "cell_type": "code",
   "execution_count": null,
   "metadata": {},
   "outputs": [],
   "source": [
    "### Running this cell will check your answer for Question 2b\n",
    "grader.check('final-bifid-2b')"
   ]
  },
  {
   "cell_type": "markdown",
   "metadata": {},
   "source": [
    "## Part C: Horizontal Coordinates to Characters (2 pts)\n",
    "The last part of the encryption process will require to you take the 1-row horizontal orientation of coordinates and convert to characters using the Polybius square. You should take two consecutive values from the 1-row orientation and use them as the row and column values in the Polybius square to determine the character. \n",
    "\n",
    "```\n",
    "4 4 3 3 3 5 3 2 4 3 1 3 5 5 3 1 2 3 2 5\n",
    "\n",
    "becomes\n",
    "\n",
    "44 33 35 32 43 13 55 31 23 25\n",
    "U  A  E  O  L  W  R  I  N  S\n",
    "```\n",
    "\n",
    "Write a function that uses the 1-row horizontal orientation of coordinates, takes 2 consecutive integers at a time, and uses them as row and column numbers to determine the ciphertext character according to the Polybius square passed as an input.\n",
    "\n",
    "**Criteria:**\n",
    "1. The function must be named `bifid_horizontal_to_char` exactly\n",
    "2. The function must have exactly 2 input arguments:\n",
    "   * `square` (list): the list of lists that represents the polybius square\n",
    "   * `hcoordinates` (list): the list that represents the 1-row horizontal orientation\n",
    "3. The function must return a `str` object that represents the ciphertext message.\n",
    "\n",
    "**Sample Test Cases**:\n",
    "```\n",
    ">>> bifid_horizontal_to_char( default_square, [2, 1, 5, 3, 5, 4])\n",
    "'FXY'\n",
    "\n",
    ">>> bifid_horizontal_to_char( keyword_square, [2, 3, 1, 5, 1, 4])\n",
    "'SBY'\n",
    "\n",
    ">>> bifid_horizontal_to_char( default_square, [4, 2, 2, 4, 2, 4, 1, 3, 3, 3, 2, 3, 1, 4, 4, 1, 2, 1, 4, 3, 4, 3, 4, 3, 1, 1, 4, 3, 2, 2, 5, 3, 3, 1, 2, 5])\n",
    "'RIICNHDQFSSSASGXLK'\n",
    "```"
   ]
  },
  {
   "cell_type": "code",
   "execution_count": null,
   "metadata": {},
   "outputs": [],
   "source": [
    "def bifid_horizontal_to_char(square, hcoordinates ):\n",
    "    "
   ]
  },
  {
   "cell_type": "code",
   "execution_count": null,
   "metadata": {},
   "outputs": [],
   "source": [
    "### Running this cell will check your answer for Question 2c\n",
    "grader.check('final-bifid-2c')"
   ]
  },
  {
   "cell_type": "markdown",
   "metadata": {},
   "source": [
    "## Part D: Characters to Horizontal (2 pts)\n",
    "As part of the decryption process you will need to convert ciphertext characters back into coordinates. Since decryption occurs in the opposite order as encryption, these characters should be written out horiztonally in a single row of values. In the next step these characters will be coverted back into the 2-row vertical orientation.\n",
    "\n",
    "```\n",
    "Ciphertext: UAEOL WRINS\n",
    "\n",
    "becomes:\n",
    "\n",
    "4 4 3 3 3 5 3 2 4 3 1 3 5 5 3 1 2 3 2 5\n",
    "\n",
    "```\n",
    "\n",
    "Write a function convert ciphertext characters back into coordinates.\n",
    "\n",
    "**Criteria:**\n",
    "1. The function must be named `bifid_char_to_horizontal` exactly\n",
    "2. The function must have exactly 2 input arguments:\n",
    "   * `square` (list): the list of lists that represents the polybius square\n",
    "   * `text` (str): the ciphertext that will be converted to 1-row horizontal orientation of coordinates\n",
    "3. The function must return a `list` object that contains only integers. The list should contain the row and column numbers for each character in the ciphertext. The integers should alternate row, column, row, column, ... based on the ciphertext characters.\n",
    "\n",
    "\n",
    "**Sample Test Cases**:\n",
    "```\n",
    ">>> bifid_char_to_horizontal( default_square, 'FXY')\n",
    "[2, 1, 5, 3, 5, 4]\n",
    "\n",
    ">>> bifid_char_to_horizontal( keyword_square, 'SBY')\n",
    "[2, 3, 1, 5, 1, 4]\n",
    "\n",
    ">>> bifid_char_to_horizontal( default_square, 'RIICNHDQFSSSASGXLK')\n",
    "[4, 2, 2, 4, 2, 4, 1, 3, 3, 3, 2, 3, 1, 4, 4, 1, 2, 1, 4, 3, 4, 3, 4, 3, 1, 1, 4, 3, 2, 2, 5, 3, 3, 1, 2, 5]\n",
    "```"
   ]
  },
  {
   "cell_type": "code",
   "execution_count": null,
   "metadata": {},
   "outputs": [],
   "source": [
    "def bifid_char_to_horizontal( square, text ):\n",
    "    "
   ]
  },
  {
   "cell_type": "code",
   "execution_count": null,
   "metadata": {},
   "outputs": [],
   "source": [
    "### Running this cell will check your answer for Question 2d\n",
    "grader.check('final-bifid-2d')"
   ]
  },
  {
   "cell_type": "markdown",
   "metadata": {},
   "source": [
    "## Part E: Horizontal to Vertical (4 pts)\n",
    "As part of the decryption process you will need to convert the 1-row horizontal representation of coordinates to the 2-row vertical representation of coordinates.\n",
    "\n",
    "```\n",
    "4 4 3 3 3 5 3 2 4 3 1 3 5 5 3 1 2 3 2 5\n",
    "\n",
    "becomes\n",
    "\n",
    "4 4 3 3 3 5 3 2 4 3\n",
    "1 3 5 5 3 1 2 3 2 5\n",
    "\n",
    "```\n",
    "\n",
    "Write a function that will convert the 1-row horizontal representation of coordinates to the 2-row vertical representation of coordinates.\n",
    "\n",
    "**Criteria:**\n",
    "1. The function must be named `bifid_horizontal_to_vertical` exactly\n",
    "2. The function must have exactly 1 input arguments:\n",
    "   * `hcoordinates` (list): a list of integers that represent coordinates in a 1-row horizontal orientation.\n",
    "3. The function must return a `list` object that contains 2 sub-lists. The first sub-list should contain the first half of the input list (the row numbers of each plaintext character). The second sub-list should contain the second half of the input list (the column numbers of each plaintext character).\n",
    "\n",
    "**Sample Test Cases**:\n",
    "```\n",
    ">>> bifid_horizontal_to_vertical( [2, 1, 5, 3, 5, 4] )\n",
    "[[2, 1, 5], \n",
    " [3, 5, 4]]\n",
    "\n",
    ">>> bifid_horizontal_to_vertical( [2, 3, 1, 5, 1, 4] )\n",
    "[[2, 3, 1], \n",
    " [5, 1, 4]]\n",
    "\n",
    ">>> bifid_horizontal_to_vertical( [4, 2, 2, 4, 2, 4, 1, 3, 3, 3, 2, 3, 1, 4, 4, 1, 2, 1, 4, 3, 4, 3, 4, 3, 1, 1, 4, 3, 2, 2, 5, 3, 3, 1, 2, 5] )\n",
    "[[4, 2, 2, 4, 2, 4, 1, 3, 3, 3, 2, 3, 1, 4, 4, 1, 2, 1],\n",
    " [4, 3, 4, 3, 4, 3, 1, 1, 4, 3, 2, 2, 5, 3, 3, 1, 2, 5]]\n",
    "```"
   ]
  },
  {
   "cell_type": "code",
   "execution_count": null,
   "metadata": {},
   "outputs": [],
   "source": [
    "def bifid_horizontal_to_vertical( hcoordinates ):\n",
    "    vcoordinates = [ [], [] ]\n",
    "    \n",
    "\n",
    "    \n",
    "    \n",
    "    \n",
    "    return vcoordinates"
   ]
  },
  {
   "cell_type": "code",
   "execution_count": null,
   "metadata": {},
   "outputs": [],
   "source": [
    "### Running this cell will check your answer for Question 2e\n",
    "grader.check('final-bifid-2e')"
   ]
  },
  {
   "cell_type": "markdown",
   "metadata": {},
   "source": [
    "## Part F: Vertical to Characters (2 pts)\n",
    "The final part of the decryption process will require you to take the 2-row vertical representation of coordinates and covert them back into a character.\n",
    "\n",
    "```\n",
    "4 4 3 3 3 5 3 2 4 3\n",
    "1 3 5 5 3 1 2 3 2 5\n",
    "\n",
    "becomes\n",
    "\n",
    "F L E E A T O N C E\n",
    "\n",
    "```\n",
    "\n",
    "Write a function that will take the 2-row vertical representation of coordinates and covert them back into a plaintext character.\n",
    "\n",
    "**Criteria:**\n",
    "1. The function must be named `bifid_vertical_to_char` exactly\n",
    "2. The function must have exactly 2 input arguments:\n",
    "   * `square` (list): the list of lists that represents the polybius square\n",
    "   * `vcoordinates` (list): the list of lists that represents the 2-row vertical orientation\n",
    "3. The function must return a `str` object represents the plaintext message.\n",
    "\n",
    "**Sample Test Cases**:\n",
    "```\n",
    ">>> bifid_vertical_to_char( default_square, [[2, 1, 5], [3, 5, 4]] )\n",
    "'HEY'\n",
    "\n",
    ">>> bifid_vertical_to_char( keyword_square, [[2, 3, 1], [5, 1, 4]] )\n",
    "'HEY'\n",
    "\n",
    ">>> bifid_vertical_to_char( default_square, [[4, 2, 2, 4, 2, 4, 1, 3, 3, 3, 2, 3, 1, 4, 4, 1, 2, 1],[4, 3, 4, 3, 4, 3, 1, 1, 4, 3, 2, 2, 5, 3, 3, 1, 2, 5]] )\n",
    "'THISISALONGMESSAGE'\n",
    "```"
   ]
  },
  {
   "cell_type": "code",
   "execution_count": null,
   "metadata": {},
   "outputs": [],
   "source": [
    "def bifid_vertical_to_char( square, vcoordinates ):\n",
    "    "
   ]
  },
  {
   "cell_type": "code",
   "execution_count": null,
   "metadata": {},
   "outputs": [],
   "source": [
    "### Running this cell will check your answer for Question 2f\n",
    "grader.check('final-bifid-2f')"
   ]
  },
  {
   "cell_type": "markdown",
   "metadata": {},
   "source": [
    "# 3. Bifid Encryption and Decryption (4 pts)\n",
    "\n",
    "Now that you have all the needed pieces to create the key and work with coordinates, it's time to program the encryption and decryption processes.\n",
    "\n",
    "**Criteria:**\n",
    "1. The function must be named `bifid` exactly\n",
    "2. The function must have exactly 3 input arguments:\n",
    "   * `text` (str): the message that will be encrypted or decrypted\n",
    "   * `key` (str, optional): the key that will be used to encrypt or decrypt the message. Should default to `'ABCDEFGHIKLMNOPQRSTUVWXYZ'` (notice no `J`)\n",
    "   * `encipher` (bool, optional): Controls if the function will encipher or decipher the string passed to `text`. `True` should trigger enciphering, `False` should trigger deciphering. Should default to `True`. \n",
    "3. The function must return a `str` object that represents the encrypted or decrypted text.\n",
    "\n",
    "**Sample Test Cases**:\n",
    "```\n",
    ">>> bifid( 'Hey' )\n",
    "'FXY'\n",
    "\n",
    ">>> bifid( 'HEY', 'polybius cipher' )\n",
    "'SBY'\n",
    "\n",
    ">>> bifid( 'This is a long message', key='ABCDEFGHIKLMNOPQRSTUVWXYZ')\n",
    "'RIICN HDQFS SSASG XLK'\n",
    "\n",
    ">>> bifid( 'FINRK SIQIO AN', 'macs', False )\n",
    "'finalproiect'\n",
    "\n",
    ">>> bifid( 'MKCTB SIY', key='durham', encipher=False )\n",
    "'bullcity'\n",
    "```"
   ]
  },
  {
   "cell_type": "code",
   "execution_count": null,
   "metadata": {},
   "outputs": [],
   "source": [
    "def bifid( text, key='ABCDEFGHIKLMNOPQRSTUVWXYZ', encipher = True):\n",
    "    "
   ]
  },
  {
   "cell_type": "code",
   "execution_count": null,
   "metadata": {},
   "outputs": [],
   "source": [
    "### Running this cell will check your answer for Question 3\n",
    "grader.check('final-bifid-3')"
   ]
  },
  {
   "cell_type": "markdown",
   "metadata": {},
   "source": [
    "# 4. Analysis of Ciphertext (6 total points)\n",
    "\n",
    "There is a file included with this notebook that contains the first chapter of Pride and Prejudice. The questions below will ask you to analyze a ciphertext that uses this chapter as the plaintext. Each question will ask you to replace `...`'s in a code cell with your answer, either a multiple choice response (`'A'`, `'B'`, etc) or a free response. The code checks for these cells will only be checking that the answer is formatted correct NOT checking that the answer is correct. These responses will only be graded once you've submitted your assignment, so make sure you are certain of your answers before submitting.\n",
    "\n",
    "## Part A: Character Frequency (2 pts)\n",
    "Run the cell below to generate a bar chart of the single character frequencies in the ciphertext created using the Playfair cipher and the key word `Jane Austen`. The bar char should be prefilled, but if you need to create it again you may need to run the cell twice for the bar chart to display."
   ]
  },
  {
   "cell_type": "code",
   "execution_count": 97,
   "metadata": {},
   "outputs": [
    {
     "data": {
      "image/png": "[encoded data removed]",
      "text/plain": [
       "<Figure size 432x288 with 1 Axes>"
      ]
     },
     "metadata": {
      "needs_background": "light"
     },
     "output_type": "display_data"
    }
   ],
   "source": [
    "from seaborn import barplot\n",
    "\n",
    "with open('pride-prejudice-chapter-01.txt') as f:\n",
    "    plaintext = f.read()\n",
    "\n",
    "ciphertext = bifid( plaintext, 'Jane Austen' )\n",
    "labels = ['A', 'B', 'C', 'D', 'E', 'F', 'G', 'H', 'I', 'J', 'K', 'L', 'M', 'N', 'O', 'P', 'Q', 'R', 'S', 'T', 'U', 'V', 'W', 'X', 'Y', 'Z']\n",
    "values = character_frequency( ciphertext )\n",
    "\n",
    "barplot(labels, values, color='steelblue');"
   ]
  },
  {
   "cell_type": "markdown",
   "metadata": {},
   "source": [
    "When considering the bar chart, (ignoring the lack of a `J`) how does this chart compare to other ciphers we've studied in this course?\n",
    "* [A] Most similar to the Multiplicative cipher\n",
    "* [B] Most similar to the Autokey Cipher\n",
    "* [C] Most similar to the Vigenere Cipher\n",
    "* [D] Most similar to the Affine Cipher\n",
    "* [E] Not like any other cipher we've seen\n",
    "\n",
    "Replace the `...` with the letter of your answer. Use the box below to provide any written explanation to support your answer."
   ]
  },
  {
   "cell_type": "code",
   "execution_count": null,
   "metadata": {},
   "outputs": [],
   "source": [
    "# Your answer should be one of the following strings 'A', 'B', 'C', 'D', 'E'\n",
    "analysis_q1 = '...'"
   ]
  },
  {
   "cell_type": "markdown",
   "metadata": {},
   "source": [
    "*click into this box and type your written explanation*"
   ]
  },
  {
   "cell_type": "markdown",
   "metadata": {},
   "source": [
    "## Part B: Index of Coincidence (2 pts)\n",
    "\n",
    "The index of coincidence for this passage is:"
   ]
  },
  {
   "cell_type": "code",
   "execution_count": 98,
   "metadata": {},
   "outputs": [
    {
     "data": {
      "text/plain": [
       "0.05077330435846677"
      ]
     },
     "execution_count": 98,
     "metadata": {},
     "output_type": "execute_result"
    }
   ],
   "source": [
    "index_of_coincidence( ciphertext )"
   ]
  },
  {
   "cell_type": "markdown",
   "metadata": {},
   "source": [
    "When considering the index of coincidence, how does this value compare to other ciphers we've studied in this course?\n",
    "* [A] Similar to a polyalphabetic cipher, but a little smaller than usual\n",
    "* [B] Similar to a polyalphabetic cipher, but a little larger than usual\n",
    "* [C] Similar to a monoalphabetic cipher, but a little smaller than usual\n",
    "* [D] Similar to a monoalphabetic cipher, but a little larger than usual\n",
    "* [E] Not like any other cipher we've seen\n",
    "\n",
    "Replace the `...` with the letter of your answer. Use the box below to provide any written explanation to support your answer."
   ]
  },
  {
   "cell_type": "code",
   "execution_count": null,
   "metadata": {},
   "outputs": [],
   "source": [
    "# Your answer should be one of the following strings 'A', 'B', 'C', 'D', 'E'\n",
    "analysis_q2 = '...'"
   ]
  },
  {
   "cell_type": "markdown",
   "metadata": {},
   "source": [
    "*click into this box and type your written explanation*"
   ]
  },
  {
   "cell_type": "markdown",
   "metadata": {},
   "source": [
    "## Part C: Number of Possible Keys (2 pts)\n",
    "\n",
    "Given the criteria for the key (the key is the 5x5 Polybius square, not the key word used to help generate it), how many possible keys are there for this cipher? You can calculate your answer if you'd like (e.g. `analysis_q3 = 3 * 5`) instead of provided a pre-computed answer ( `analysis_q3 = 15` ). Your answer should compute to be an integer. Use the box below to provide any written explanation to support your answer."
   ]
  },
  {
   "cell_type": "code",
   "execution_count": null,
   "metadata": {},
   "outputs": [],
   "source": [
    "# Your answer should be an integer\n",
    "analysis_q3 = ..."
   ]
  },
  {
   "cell_type": "markdown",
   "metadata": {},
   "source": [
    "*click into this box and type your written explanation*"
   ]
  },
  {
   "cell_type": "markdown",
   "metadata": {},
   "source": [
    "# Submitting Your Work\n",
    "\n",
    "1. Save this notebook using the save icon\n",
    "2. In the File Browser to the left, right click on this file (`spring2020-final-bifid.ipynb`) and download it to your computer as a `.ipynb` file\n",
    "3. Submit the `spring2020-final-bifid.ipynb` file to Gradescope via the Canvas Assignment."
   ]
  }
 ],
 "metadata": {
  "kernelspec": {
   "display_name": "Python 3",
   "language": "python",
   "name": "python3"
  },
  "language_info": {
   "codemirror_mode": {
    "name": "ipython",
    "version": 3
   },
   "file_extension": ".py",
   "mimetype": "text/x-python",
   "name": "python",
   "nbconvert_exporter": "python",
   "pygments_lexer": "ipython3",
   "version": "3.7.3"
  }
 },
 "nbformat": 4,
 "nbformat_minor": 4
}
