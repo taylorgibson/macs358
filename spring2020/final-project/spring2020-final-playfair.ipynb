{
 "cells": [
  {
   "cell_type": "markdown",
   "metadata": {},
   "source": [
    "# MA/CS 358: Final Project: Playfair Cipher - Spring 2020\n",
    "*Please complete this notebook by filling in the code cells as indicated.*"
   ]
  },
  {
   "cell_type": "markdown",
   "metadata": {},
   "source": [
    "Double-click into this cell, type your name, and run the cell to finalize the changes.\n",
    "\n",
    "**Name:** -----"
   ]
  },
  {
   "cell_type": "markdown",
   "metadata": {},
   "source": [
    "## 0. Run The Cell Below Everytime You Log In\n",
    "\n",
    "To get you started, run the cell below to load the autograder and toolkit for the final project. Every function we've used in the course should be available to you in the toolkit."
   ]
  },
  {
   "cell_type": "code",
   "execution_count": null,
   "metadata": {},
   "outputs": [],
   "source": [
    "import otter\n",
    "grader = otter.Notebook('tests')\n",
    "from final_toolkit import *"
   ]
  },
  {
   "cell_type": "markdown",
   "metadata": {},
   "source": [
    "# 1. The Polybius Square (14 total points)\n",
    "\n",
    "This cipher uses a 5x5 square of characters as part of the encryption scheme. The default Polybius square is in the form:\n",
    "\n",
    "||||||\n",
    "|---|---|---|---|---|\n",
    "|A|B|C|D|E|\n",
    "|F|G|H|I/J|K|\n",
    "|L|M|N|O|P|\n",
    "|Q|R|S|T|U|\n",
    "|V|W|X|Y|Z|\n",
    "\n",
    "A key could be used to reorder the alphabet in the square, with the letters (without duplicates) of the key being placed at the beginning with the rest of the alphabet following it in regular order. For example, the key phrase `polybius cipher` would lead to the reordered square below.\n",
    "\n",
    "||||||\n",
    "|---|---|---|---|---|\n",
    "|P|O|L|Y|B|\n",
    "|I/J|U|S|C|H|\n",
    "|E|R|A|D|F|\n",
    "|G|K|M|N|Q|\n",
    "|T|V|W|X|Z|\n",
    "\n",
    "For this assignment, represent the polybius square using a list of lists. For example, the default and key word polybius squares would be the objects:"
   ]
  },
  {
   "cell_type": "code",
   "execution_count": null,
   "metadata": {},
   "outputs": [],
   "source": [
    "default_square = [ ['A', 'B', 'C', 'D', 'E'],\n",
    "                   ['F', 'G', 'H', 'I', 'K'],\n",
    "                   ['L', 'M', 'N', 'O', 'P'],\n",
    "                   ['Q', 'R', 'S', 'T', 'U'],\n",
    "                   ['V', 'W', 'X', 'Y', 'Z'] ]\n",
    "\n",
    "keyword_square = [ ['P', 'O', 'L', 'Y', 'B'],\n",
    "                   ['I', 'U', 'S', 'C', 'H'],\n",
    "                   ['E', 'R', 'A', 'D', 'F'],\n",
    "                   ['G', 'K', 'M', 'N', 'Q'],\n",
    "                   ['T', 'V', 'W', 'X', 'Z'] ]"
   ]
  },
  {
   "cell_type": "markdown",
   "metadata": {},
   "source": [
    "These lists will be used in the sample test cases in the problems below.\n",
    "\n",
    "Note that when creating these objects, only the character `I` was used, not `I/J`. For this assignment, both `I` and `J` should be treated as the character `I`. This will create some odd plaintext messages when deciphering, but humans are good at reading `I`'s as `J`'s when needed. Now stop and give me `10 Iumping Iacks`!"
   ]
  },
  {
   "cell_type": "markdown",
   "metadata": {},
   "source": [
    "## Part A: Creating the Square (4 pts)\n",
    "\n",
    "Write a function that creates the list of lists that represents the Polybius Square. It should be capable of taking in a key word to re-order the characters, but if one is not provided it should revert to the default square described above.\n",
    "\n",
    "**Criteria:**\n",
    "1. The function must be named `polybius_square_gen` exactly\n",
    "2. The function must have exactly 1 input arguments:\n",
    "   * `key` (str, optional): the value for the key word to be used to generate the list of lists. Should default to `'ABCDEFGHIKLMNOPQRSTUVWXYZ'` (notice no `J`)\n",
    "3. The function must return a `list` object that contains 5 sub-lists, one for each row in the square. Each sublist should contain 5 elements, each a single character string.\n",
    "4. Any `J`'s included in a keyword should be replaced with `I`'s before creating the square\n",
    "5. The keyword should be cleaned in case it uses lower-case letters or symbols.\n",
    "\n",
    "**Sample Test Cases**:\n",
    "```\n",
    ">>> polybius_square_gen()\n",
    "[['A', 'B', 'C', 'D', 'E'], ['F', 'G', 'H', 'I', 'K'], ['L', 'M', 'N', 'O', 'P'], ['Q', 'R', 'S', 'T', 'U'], ['V', 'W', 'X', 'Y', 'Z']]\n",
    "\n",
    "\n",
    ">>> polybius_square_gen( 'Polybius Cipher' )\n",
    "[['P', 'O', 'L', 'Y', 'B'], ['I', 'U', 'S', 'C', 'H'], ['E', 'R', 'A', 'D', 'F'], ['G', 'K', 'M', 'N', 'Q'], ['T', 'V', 'W', 'X', 'Z']]\n",
    "\n",
    ">>> polybius_square_gen( key = 'Long Jump' )\n",
    "[['L', 'O', 'N', 'G', 'I'], ['U', 'M', 'P', 'A', 'B'], ['C', 'D', 'E', 'F', 'H'], ['K', 'Q', 'R', 'S', 'T'], ['V', 'W', 'X', 'Y', 'Z']]\n",
    "\n",
    "```"
   ]
  },
  {
   "cell_type": "code",
   "execution_count": null,
   "metadata": {},
   "outputs": [],
   "source": [
    "def polybius_square_gen( key = 'ABCDEFGHIKLMNOPQRSTUVWXYZ'):\n",
    "    \n",
    "    square = [[],[],[],[],[]]\n",
    "\n",
    "    \n",
    "    return square"
   ]
  },
  {
   "cell_type": "code",
   "execution_count": null,
   "metadata": {},
   "outputs": [],
   "source": [
    "### Running this cell will check your answer for Question 1a\n",
    "grader.check('final-polybius-1a')"
   ]
  },
  {
   "cell_type": "markdown",
   "metadata": {},
   "source": [
    "## Part B: Accessing Characters (2 pts)\n",
    "\n",
    "For this cipher, it will be helpful to be able to provide a row and column number and determine which character is located there. Write a function that takes in the row and column number and returns the character located there. The first row and column should be considered to be row 1 and column 1 respectively.\n",
    "\n",
    "**Criteria:**\n",
    "1. The function must be named `polybius_square_character` exactly\n",
    "2. The function must have exactly 3 input arguments:\n",
    "   * `square` (list): the list of lists that represents the polybius square\n",
    "   * `row` (int): the value for the row\n",
    "   * `col` (int): the value for the column\n",
    "3. The function must return a `str` object that contains a single character\n",
    "\n",
    "**Hint:** This should be a _very_ short function. If you're good you can get by with _just_ a return statement! In fact, you almost don't need a function for this, but it's helpful to have a function name that can be called to perform this operation.\n",
    "\n",
    "**Sample Test Cases**:\n",
    "```\n",
    ">>> polybius_square_character( default_square, 1, 2 )\n",
    "'B'\n",
    "\n",
    ">>> polybius_square_character( keyword_square, 5, 4 )\n",
    "'X'\n",
    "```"
   ]
  },
  {
   "cell_type": "code",
   "execution_count": null,
   "metadata": {},
   "outputs": [],
   "source": [
    "def polybius_square_character( square, row, col ):\n",
    "    "
   ]
  },
  {
   "cell_type": "code",
   "execution_count": null,
   "metadata": {},
   "outputs": [],
   "source": [
    "### Running this cell will check your answer for Question 1b\n",
    "grader.check('final-polybius-1b')"
   ]
  },
  {
   "cell_type": "markdown",
   "metadata": {},
   "source": [
    "## Part C: Determining Row Number (4 pts)\n",
    "\n",
    "For this cipher, it will be helpful to know in which row and column a given character can be located. Write a function that takes in a character and returns the row number where it's located.\n",
    "\n",
    "**Criteria:**\n",
    "1. The function must be named `polybius_square_row` exactly\n",
    "2. The function must have exactly 2 input arguments:\n",
    "   * `square` (list): the list of lists that represents the polybius square\n",
    "   * `letter` (str): the letter whose row number is being determined\n",
    "3. The function must return a `int` object that represents the row number\n",
    "\n",
    "**Hint:** Iterate over the possible row and column numbers for the polybius square and check to see if the current row/column number matches the passed in character. If it is, return the value for the row. If not, keep going. You're guaranteed to find it evenually! Don't forget, the rows in the Polybius square start at 1, while in a list the first element is at index 0.\n",
    "\n",
    "**Sample Test Cases**:\n",
    "```\n",
    ">>> polybius_square_row( default_square, 'A' )\n",
    "1\n",
    "\n",
    ">>> polybius_square_row( default_square, 'P' )\n",
    "3\n",
    "\n",
    ">>> polybius_square_row( keyword_square, 'A' )\n",
    "3\n",
    "```"
   ]
  },
  {
   "cell_type": "code",
   "execution_count": null,
   "metadata": {},
   "outputs": [],
   "source": [
    "def polybius_square_row( square, letter ):\n",
    "    "
   ]
  },
  {
   "cell_type": "code",
   "execution_count": null,
   "metadata": {},
   "outputs": [],
   "source": [
    "### Running this cell will check your answer for Question 1c\n",
    "grader.check('final-polybius-1c')"
   ]
  },
  {
   "cell_type": "markdown",
   "metadata": {},
   "source": [
    "## Part D: Determining Column Number (4 pts)\n",
    "\n",
    "For this cipher, it will be helpful to know in which row and column a given character can be located. Write a function that takes in a character and returns the column number where it's located.\n",
    "\n",
    "**Criteria:**\n",
    "1. The function must be named `polybius_square_col` exactly\n",
    "2. The function must have exactly 2 input arguments:\n",
    "   * `square` (list): the list of lists that represents the polybius square\n",
    "   * `letter` (str): the letter whose column number is being determined\n",
    "3. The function must return a `int` object that represents the column number\n",
    "\n",
    "**Hint:** Iterate over the possible row and column numbers for the polybius square and check to see if the current row/column number matches the passed in character. If it is, return the value for the column. If not, keep going. You're guaranteed to find it evenually! Don't forget, the columns in the Polybius square start at 1, while in a list the first element is at index 0.\n",
    "\n",
    "**Sample Test Cases**:\n",
    "```\n",
    ">>> polybius_square_col( default_square, 'A' )\n",
    "1\n",
    "\n",
    ">>> polybius_square_col( default_square, 'P' )\n",
    "5\n",
    "\n",
    ">>> polybius_square_col( keyword_square, 'K' )\n",
    "2\n",
    "```"
   ]
  },
  {
   "cell_type": "code",
   "execution_count": null,
   "metadata": {},
   "outputs": [],
   "source": [
    "def polybius_square_col( square, letter ):\n",
    "    "
   ]
  },
  {
   "cell_type": "code",
   "execution_count": null,
   "metadata": {},
   "outputs": [],
   "source": [
    "### Running this cell will check your answer for Question 1d\n",
    "grader.check('final-polybius-1d')"
   ]
  },
  {
   "cell_type": "markdown",
   "metadata": {},
   "source": [
    "# 2. Cleaning the Message (8 pts)\n",
    "\n",
    "When encrypting a message, the Playfair Cipher selects two plaintext letters and uses the Polybius square to determine which 2 ciphertext letters to replace them with. However, the algorithm uses requires that the following conditions be met:\n",
    "   * There should not be any `J`'s in your message. They should replaced with `I`'s\n",
    "   * The two letters selected must not be the same letter. If they are, insert an 'X' after the first of the repeating letter. Note, this does not neccesarily mean you need to replace ALL repeated letters, but only those that would be selected together as a pair.\n",
    "   * The message must be even in length so letters can always be taken in pairs. If after splitting repeating letters \n",
    "   \n",
    "Write a function to prepare messages to be used with the Playfair cipher.\n",
    "\n",
    "**Criteria:**\n",
    "1. The function must be named `playfair_textclean` exactly\n",
    "2. The function must have exactly 1 input arguments:\n",
    "   * `text` (str): the message that will be prepare for encryption with the Playfair cipher.\n",
    "3. The function must return a `str` object that represents the prepared text.\n",
    "\n",
    "**Hint:** Use a `while` loop to iterate over the indices of the string `text`. If you use a `for` loop, it will use the `len(text)` that was computed at the start of the loop and not account of any changes to the length that inserting an `X` might cause. A `while` loop will recompute `len(text)` every time it starts the loop over, allowing you to account for any changes in length in realtime.\n",
    "\n",
    "**Sample Test Cases**:\n",
    "```\n",
    ">>> playfair_textclean( 'HEY' )\n",
    "'HEYX'\n",
    "\n",
    ">>> playfair_textclean( 'Jump' )\n",
    "'IUMP'\n",
    "\n",
    ">>> playfair_textclean( 'Hide the gold in the tree stump' )\n",
    "'HIDETHEGOLDINTHETREXESTUMP'\n",
    "\n",
    ">>> playfair_textclean( 'mississippi' )\n",
    "'MISXSISXSIPXPI'\n",
    "```"
   ]
  },
  {
   "cell_type": "code",
   "execution_count": null,
   "metadata": {},
   "outputs": [],
   "source": [
    "def playfair_textclean( text ):\n",
    "    "
   ]
  },
  {
   "cell_type": "code",
   "execution_count": null,
   "metadata": {},
   "outputs": [],
   "source": [
    "### Running this cell will check your answer for Question 2\n",
    "grader.check('final-playfair-2')"
   ]
  },
  {
   "cell_type": "markdown",
   "metadata": {},
   "source": [
    "# 3. Playfair Encryption and Decryption (12 pts)\n",
    "\n",
    "Now that you have all the needed pieces to create the key and prepare the message, it's time to program the encryption and decryption processes. Remember the 3 rules for encryption:\n",
    "\n",
    "1. **If the letters appear on the same row of your table**, replace them with the letters to their immediate right respectively (wrapping around to the left side of the row if a letter in the original pair was on the right side of the row).\n",
    "2. **If the letters appear on the same column of your table**, replace them with the letters immediately below respectively (wrapping around to the top side of the column if a letter in the original pair was on the bottom side of the column).\n",
    "3. **If the letters are not on the same row or column**, replace them with the letters on the same row respectively but at the other pair of corners of the rectangle defined by the original pair. The order is important – the first letter of the encrypted pair is the one that lies on the same row as the first letter of the plaintext pair.\n",
    "\n",
    "For decryption, it's the same rules but you move to the left and up in the table, instead of right and down. Swapping works the same way.\n",
    "\n",
    "**Criteria:**\n",
    "1. The function must be named `playfair` exactly\n",
    "2. The function must have exactly 3 input arguments:\n",
    "   * `text` (str): the message that will be encrypted or decrypted\n",
    "   * `key` (str, optional): the key that will be used to encrypt or decrypt the message. Should default to `'ABCDEFGHIKLMNOPQRSTUVWXYZ'` (notice no `J`)\n",
    "   * `encipher` (bool, optional): Controls if the function will encipher or decipher the string passed to `text`. `True` should trigger enciphering, `False` should trigger deciphering. Should default to `True`. \n",
    "3. The function must return a `str` object that represents the encrypted or decrypted text.\n",
    "\n",
    "**Sample Test Cases**:\n",
    "```\n",
    ">>> playfair( 'test' )\n",
    "'UDTU'\n",
    "\n",
    ">>> playfair( 'test', 'secret' )\n",
    "'SCES'\n",
    "\n",
    ">>> playfair( 'Hide the gold in the tree stump', 'playfair example')\n",
    "'BMODZ BXDNA BEKUD MUIXM MOUVI F'\n",
    "\n",
    ">>> playfair( 'BMODZ BXDNA BEKUD MUIXM MOUVI F', 'playfair example', False)\n",
    "'hidethegoldinthetrexestump'\n",
    "\n",
    ">>> playfair( 'FQVHD TAZQO EPEPS Y', 'decipher me', False)\n",
    "'goodiobyoudiditx'\n",
    "```"
   ]
  },
  {
   "cell_type": "code",
   "execution_count": null,
   "metadata": {},
   "outputs": [],
   "source": [
    "def playfair( text, key='ABCDEFGHIKLMNOPQRSTUVWXYZ', encipher = True):\n",
    "    \n",
    "    text = playfair_textclean(text)\n",
    "    square = polybius_square_gen(key)\n"
   ]
  },
  {
   "cell_type": "code",
   "execution_count": null,
   "metadata": {},
   "outputs": [],
   "source": [
    "### Running this cell will check your answer for Question 3\n",
    "grader.check('final-playfair-3')"
   ]
  },
  {
   "cell_type": "markdown",
   "metadata": {},
   "source": [
    "# 4. Analysis of Ciphertext\n",
    "\n",
    "There is a file included with this notebook that contains the first chapter of Pride and Prejudice. The questions below will ask you to analyze a ciphertext that uses this chapter as the plaintext. Each question will ask you to replace `...`'s in a code cell with your answer, either a multiple choice response (`'A'`, `'B'`, etc) or a free response. These responses will only be graded once you've submitted your assignment, so make sure you are certain of your answers before submitting.\n",
    "\n",
    "## Part A: Character Frequency (2 pts)\n",
    "Run the cell below to generate a bar chart of the single character frequencies in the ciphertext created using the Playfair cipher and the key word `Jane Austen`. The bar char should be prefilled, but if you need to create it again you may need to run the cell twice for the bar chart to display."
   ]
  },
  {
   "cell_type": "code",
   "execution_count": 13,
   "metadata": {},
   "outputs": [
    {
     "data": {
      "image/png": "[encoded data removed]",
      "text/plain": [
       "<Figure size 432x288 with 1 Axes>"
      ]
     },
     "metadata": {
      "needs_background": "light"
     },
     "output_type": "display_data"
    }
   ],
   "source": [
    "from seaborn import barplot\n",
    "\n",
    "with open('pride-prejudice-chapter-01.txt') as f:\n",
    "    plaintext = f.read()\n",
    "\n",
    "ciphertext = playfair( plaintext, 'Jane Austen' )\n",
    "labels = ['A', 'B', 'C', 'D', 'E', 'F', 'G', 'H', 'I', 'J', 'K', 'L', 'M', 'N', 'O', 'P', 'Q', 'R', 'S', 'T', 'U', 'V', 'W', 'X', 'Y', 'Z']\n",
    "values = character_frequency( ciphertext )\n",
    "\n",
    "barplot(labels, values, color='steelblue');"
   ]
  },
  {
   "cell_type": "markdown",
   "metadata": {},
   "source": [
    "When considering the bar chart, (ignoring the lack of a `J`) how does this chart compare to other ciphers we've studied in this course?\n",
    "* [A] Most similar to the Multiplicative cipher\n",
    "* [B] Most similar to the Autokey Cipher\n",
    "* [C] Most similar to the Vigenere Cipher\n",
    "* [D] Most similar to the Affine Cipher\n",
    "* [E] Not like any other cipher we've seen\n",
    "\n",
    "Replace the `...` with the letter of your answer. Use the box below to provide any written explanation to support your answer."
   ]
  },
  {
   "cell_type": "code",
   "execution_count": null,
   "metadata": {},
   "outputs": [],
   "source": [
    "# Your answer should be one of the following strings 'A', 'B', 'C', 'D', 'E'\n",
    "analysis_q1 = '...'"
   ]
  },
  {
   "cell_type": "markdown",
   "metadata": {},
   "source": [
    "*click into this box and type your written explanation*"
   ]
  },
  {
   "cell_type": "markdown",
   "metadata": {},
   "source": [
    "## Part B: Index of Coincidence (2 pts)\n",
    "\n",
    "The index of coincidence for this passage is:"
   ]
  },
  {
   "cell_type": "code",
   "execution_count": 10,
   "metadata": {},
   "outputs": [
    {
     "data": {
      "text/plain": [
       "0.05051117586389297"
      ]
     },
     "execution_count": 10,
     "metadata": {},
     "output_type": "execute_result"
    }
   ],
   "source": [
    "index_of_coincidence( ciphertext )"
   ]
  },
  {
   "cell_type": "markdown",
   "metadata": {},
   "source": [
    "When considering the index of coincidence, how does this value compare to other ciphers we've studied in this course?\n",
    "* [A] Similar to a polyalphabetic cipher, but a little smaller than usual\n",
    "* [B] Similar to a polyalphabetic cipher, but a little larger than usual\n",
    "* [C] Similar to a monoalphabetic cipher, but a little smaller than usual\n",
    "* [D] Similar to a monoalphabetic cipher, but a little larger than usual\n",
    "* [E] Not like any other cipher we've seen\n",
    "\n",
    "Replace the `...` with the letter of your answer. Use the box below to provide any written explanation to support your answer."
   ]
  },
  {
   "cell_type": "code",
   "execution_count": null,
   "metadata": {},
   "outputs": [],
   "source": [
    "# Your answer should be one of the following strings 'A', 'B', 'C', 'D', 'E'\n",
    "analysis_q2 = '...'"
   ]
  },
  {
   "cell_type": "markdown",
   "metadata": {},
   "source": [
    "*click into this box and type your written explanation*"
   ]
  },
  {
   "cell_type": "markdown",
   "metadata": {},
   "source": [
    "## Part C: Number of Possible Keys (2 pts)\n",
    "\n",
    "Given the criteria for the key (the key is the 5x5 Polybius square, not the key word used to help generate it), how many possible keys are there for this cipher? You can calculate your answer if you'd like (e.g. `analysis_q3 = 3 * 5`) instead of provided a pre-computed answer ( `analysis_q3 = 15` ). Your answer should compute to be an integer. Use the box below to provide any written explanation to support your answer."
   ]
  },
  {
   "cell_type": "code",
   "execution_count": null,
   "metadata": {},
   "outputs": [],
   "source": [
    "# Your answer should be an integer\n",
    "analysis_q3 = ..."
   ]
  },
  {
   "cell_type": "markdown",
   "metadata": {},
   "source": [
    "*click into this box and type your written explanation*"
   ]
  },
  {
   "cell_type": "markdown",
   "metadata": {},
   "source": [
    "# Submitting Your Work\n",
    "\n",
    "1. Save this notebook using the save icon\n",
    "2. In the File Browser to the left, right click on this file (`spring2020-final-playfair.ipynb`) and download it to your computer as a `.ipynb` file\n",
    "3. Submit the `spring2020-final-playfair.ipynb` file to Gradescope via the Canvas Assignment."
   ]
  }
 ],
 "metadata": {
  "kernelspec": {
   "display_name": "Python 3",
   "language": "python",
   "name": "python3"
  },
  "language_info": {
   "codemirror_mode": {
    "name": "ipython",
    "version": 3
   },
   "file_extension": ".py",
   "mimetype": "text/x-python",
   "name": "python",
   "nbconvert_exporter": "python",
   "pygments_lexer": "ipython3",
   "version": "3.7.3"
  }
 },
 "nbformat": 4,
 "nbformat_minor": 4
}
