{
 "cells": [
  {
   "cell_type": "markdown",
   "metadata": {},
   "source": [
    "# MA/CS 358: Week 04 Graded Homework - Spring 2020\n",
    "\n",
    "*Please complete this notebook by filling in the code cells as indicated.*"
   ]
  },
  {
   "cell_type": "markdown",
   "metadata": {},
   "source": [
    "Double-click into this cell, type your name, and run the cell to finalize the changes.\n",
    "\n",
    "**Name:** -----"
   ]
  },
  {
   "cell_type": "markdown",
   "metadata": {},
   "source": [
    "## 0. Run The Cell Below Everytime You Log In\n",
    "\n",
    "To get you started, run the cell below to load the following functions: `text_clean` and `caesar` (as well as any other functions those need). It's rather long, so after you've run it, you can hide all the code by collapsing the cell. You can do that by clicking on the blue bar that appears along the lefthand side of the cell when selected. It will replace the cell with three dots `...`. Clicking on those dots will expand the code cell back out."
   ]
  },
  {
   "cell_type": "code",
   "execution_count": null,
   "metadata": {},
   "outputs": [],
   "source": [
    "import otter\n",
    "grader = otter.Notebook('tests')\n",
    "from hw04_toolkit import *"
   ]
  },
  {
   "cell_type": "markdown",
   "metadata": {},
   "source": [
    "## 1. Building a Bar Chart\n",
    "\n",
    "Suppose we intercepted the following ciphertext message:\n",
    "\n",
    ">CVQDI BCVYN JHZOD HZVOH TYDNK JNVGR CZIDI GJIYJ IDCVY QDNDO ZYOCZ WMDOD NCHPN ZPHVI YHVYZ NZVMX CVHJI BOCZW JJFNV IYHVK NDIOC ZGDWM VMTMZ BVMYD IBOMV INTGQ VIDVD OCVYN OMPXF HZOCV ONJHZ AJMZF IJRGZ YBZJA OCZXJ PIOMT XJPGY CVMYG TAVDG OJCVQ ZNJHZ DHKJM OVIXZ DIYZV GDIBR DOCVI JWGZH VIJAO CVOXJ PIOMT DADIY OCVOO CZYDN OMDXO CZIVH ZYDND IOCZZ SOMZH ZZVNO JAOCZ XJPIO MTEPN OJIOC ZWJMY ZMNJA OCMZZ NOVOZ NOMVI NTGQV IDVHJ GYVQD VVIYW PFJQD IVDIO CZHDY NOJAO CZXVM KVOCD VIHJP IOVDI NJIZJ AOCZR DGYZN OVIYG ZVNOF IJRIK JMODJ INJAZ PMJKZ DRVNI JOVWG ZOJGD BCOJI VITHV KJMRJ MFBDQ DIBOC ZZSVX OGJXV GDOTJ AOCZX VNOGZ YMVXP GVVNO CZMZV MZIJH VKNJA OCDNX JPIOM TVNTZ OOJXJ HKVMZ RDOCJ PMJRI JMYIV IXZNP MQZTH VKNWP ODAJP IYOCV OWDNO MDOUO CZKJN OOJRI IVHZY WTXJP IOYMV XPGVD NVAVD MGTRZ GGFIJ RIKGV XZDNC VGGZI OZMCZ MZNJH ZJAHT IJOZN VNOCZ THVTM ZAMZN CHTHZ HJMTR CZIDO VGFJQ ZMHTO MVQZG NRDOC HDIV\n",
    "\n",
    "Run the next cell to store this message to the variable `ciphertext`:"
   ]
  },
  {
   "cell_type": "code",
   "execution_count": null,
   "metadata": {},
   "outputs": [],
   "source": [
    "ciphertext = 'CVQDI BCVYN JHZOD HZVOH TYDNK JNVGR CZIDI GJIYJ IDCVY QDNDO ZYOCZ WMDOD NCHPN ZPHVI YHVYZ NZVMX CVHJI BOCZW JJFNV IYHVK NDIOC ZGDWM VMTMZ BVMYD IBOMV INTGQ VIDVD OCVYN OMPXF HZOCV ONJHZ AJMZF IJRGZ YBZJA OCZXJ PIOMT XJPGY CVMYG TAVDG OJCVQ ZNJHZ DHKJM OVIXZ DIYZV GDIBR DOCVI JWGZH VIJAO CVOXJ PIOMT DADIY OCVOO CZYDN OMDXO CZIVH ZYDND IOCZZ SOMZH ZZVNO JAOCZ XJPIO MTEPN OJIOC ZWJMY ZMNJA OCMZZ NOVOZ NOMVI NTGQV IDVHJ GYVQD VVIYW PFJQD IVDIO CZHDY NOJAO CZXVM KVOCD VIHJP IOVDI NJIZJ AOCZR DGYZN OVIYG ZVNOF IJRIK JMODJ INJAZ PMJKZ DRVNI JOVWG ZOJGD BCOJI VITHV KJMRJ MFBDQ DIBOC ZZSVX OGJXV GDOTJ AOCZX VNOGZ YMVXP GVVNO CZMZV MZIJH VKNJA OCDNX JPIOM TVNTZ OOJXJ HKVMZ RDOCJ PMJRI JMYIV IXZNP MQZTH VKNWP ODAJP IYOCV OWDNO MDOUO CZKJN OOJRI IVHZY WTXJP IOYMV XPGVD NVAVD MGTRZ GGFIJ RIKGV XZDNC VGGZI OZMCZ MZNJH ZJAHT IJOZN VNOCZ THVTM ZAMZN CHTHZ HJMTR CZIDO VGFJQ ZMHTO MVQZG NRDOC HDIV'"
   ]
  },
  {
   "cell_type": "markdown",
   "metadata": {},
   "source": [
    "\n",
    "We can see that there are a fair amount of double letters (OO, ZZ, JJ, etc) which is a sign that is likely a mono-alphabetic cipher. We don't yet know if the message was enciphered using a Caesar, Multiplicative, or Affine cipher. Looking at a bar chart of letter frequencies would be helpful in making an initial decision.\n",
    "\n",
    "### Part A (2 pts)\n",
    "Finish out the function, `character_frequency` that has been started already in the cell below.\n",
    "\n",
    "**Criteria:**\n",
    "1. The function must be named `character_frequency` exactly\n",
    "2. The function must have exactly 2 input arguments:\n",
    "   * text (str): a passage of either plaintext or ciphertext\n",
    "   * LETTERS (str, optional): The alphabet used in `text`\n",
    "3. No `docstring` is needed for this function\n",
    "4. The function must return a `list`, named `frequency_list`\n",
    "   * The list should have exactly 26 elements\n",
    "   * Each element should be a `float` object\n",
    "   * Each element should represent the percentage (as a decimal between 0.0 and 1.0) of each English letter based on the total letters in `text`\n",
    "   * element 0 should represent the percentage of A's, element 1 should represent the percetange of B's, etc.\n",
    "5. The function should use a loop and the `append` operation to generate the list that will be returned\n",
    "\n",
    "The provided code inside the function will clean the input `text` and initialize an empty list `frequency_list`. This is the list to which you should append individual percentages."
   ]
  },
  {
   "cell_type": "markdown",
   "metadata": {},
   "source": [
    "**Sample Test Cases:**\n",
    "```\n",
    ">>> character_frequency( 'HELLO' )\n",
    "[0.0, 0.0, 0.0, 0.0, 0.2, 0.0, 0.0, 0.2, 0.0, 0.0, 0.0, 0.4, 0.0, 0.0, 0.2, 0.0, 0.0, 0.0, 0.0, 0.0, 0.0, 0.0, 0.0, 0.0, 0.0, 0.0]\n",
    "\n",
    ">>> character_frequency( ciphertext )\n",
    "[0.021505376344086023, 0.012096774193548387, 0.05510752688172043, 0.06720430107526881, 0.0013440860215053765, 0.010752688172043012, 0.038978494623655914, 0.041666666666666664, 0.07661290322580645, 0.08064516129032258, 0.0, 0.016129032258064516, 0.05779569892473118, 0.05779569892473118, 0.09946236559139784, 0.025537634408602152, 0.01478494623655914, 0.01881720430107527, 0.002688172043010753, 0.028225806451612902, 0.0013440860215053765, 0.0967741935483871, 0.013440860215053764, 0.025537634408602152, 0.03763440860215054, 0.09811827956989247]\n",
    "```"
   ]
  },
  {
   "cell_type": "code",
   "execution_count": null,
   "metadata": {},
   "outputs": [],
   "source": [
    "def character_frequency( text, LETTERS = 'ABCDEFGHIJKLMNOPQRSTUVWXYZ' ):\n",
    "    text = text_clean( text )\n",
    "    frequency_list = []\n",
    "    # Your code goes below here\n",
    "\n",
    "    \n",
    "    \n",
    "    # Your code goes above here\n",
    "    return frequency_list"
   ]
  },
  {
   "cell_type": "code",
   "execution_count": null,
   "metadata": {},
   "outputs": [],
   "source": [
    "### Running this cell will check your answer for Question 1, Part A\n",
    "grader.check('hw04_q1a')"
   ]
  },
  {
   "cell_type": "markdown",
   "metadata": {},
   "source": [
    "### Part B (2 pts)\n",
    "\n",
    "The cell below will define two variables, `labels` and `values`.\n",
    "\n",
    "1. `labels` is a 26 element list that will be the labels for your bar chart. This is completed for you!\n",
    "2. `values` is a list of floats created by the function `character_frequency` when passed the variable `ciphertext`. You need to complete this assignment statement."
   ]
  },
  {
   "cell_type": "code",
   "execution_count": null,
   "metadata": {},
   "outputs": [],
   "source": [
    "labels = list('ABCDEFGHIJKLMNOPQRSTUVWXYZ')\n",
    "values = ..."
   ]
  },
  {
   "cell_type": "markdown",
   "metadata": {},
   "source": [
    "In the cell below, write the code needed to import the necessary function(s) from the `seaborn` package and make a bar chart of the ciphertext."
   ]
  },
  {
   "cell_type": "code",
   "execution_count": null,
   "metadata": {},
   "outputs": [],
   "source": []
  },
  {
   "cell_type": "markdown",
   "metadata": {},
   "source": [
    "Look at the bar chart, make a prediction about the cipher used to encrypt the ciphertext and the value of the key(s). You do not need to submit this prediction, but please remember your prediction so you can compare to the actual key you will calculate in the next section."
   ]
  },
  {
   "cell_type": "code",
   "execution_count": null,
   "metadata": {},
   "outputs": [],
   "source": [
    "### Running this cell will check your answer for Question 1, Part B\n",
    "grader.check('hw04_q1b')"
   ]
  },
  {
   "cell_type": "markdown",
   "metadata": {},
   "source": [
    "## 2. Chi-Squared Scoring\n",
    "\n",
    "We'll now attempt to crack the same ciphertext message using chi-squared scoring.\n",
    "\n",
    "### Part A (2 pts)\n",
    "\n",
    "Write the function `character_count` that takes in a string of text and returns a 26 element list that describes how many of each character are contained in the text.\n",
    "\n",
    "**Criteria:**\n",
    "1. The function must be named `character_count` exactly\n",
    "2. The function must have exactly 2 input arguments:\n",
    "   * argument 1 (str): a passage of either plaintext or ciphertext\n",
    "   * argument 2 (str, optional): The alphabet used in `argument 1` set to a default of `'ABCDEFGHIJKLMNOPQRSTUVWXYZ'`\n",
    "3. The function shoud \"clean\" `arugment 1` using the `text_clean` function before it is used\n",
    "4. No `docstring` is needed for this function\n",
    "5. The function must return a `list`\n",
    "   * The list should have exactly 26 elements\n",
    "   * Each element should be a `int` object\n",
    "   * Each element should represent the count of each letter contained in `argument 1`\n",
    "   * element 0 should represent the number of A's, element 1 should represent the number of B's, etc.\n",
    "6. The function should use a loop and the `append` operation to generate the list that will be returned\n",
    "\n",
    "__Hint:__ This function should be very similar to the `character_frequency` function written in Question 1, part A. You should be able to reuse a lot of that code in this problem."
   ]
  },
  {
   "cell_type": "markdown",
   "metadata": {},
   "source": [
    "**Sample Test Cases:**\n",
    "```\n",
    ">>> character_count( 'HELLO' )\n",
    "[0, 0, 0, 0, 1, 0, 0, 1, 0, 0, 0, 2, 0, 0, 1, 0, 0, 0, 0, 0, 0, 0, 0, 0, 0, 0]\n",
    "\n",
    ">>> character_count( ciphertext )\n",
    "[16, 9, 41, 50, 1, 8, 29, 31, 57, 60, 12, 0, 43, 43, 74, 19, 11, 14, 2, 21, 1, 72, 10, 19, 28, 73]\n",
    "```"
   ]
  },
  {
   "cell_type": "code",
   "execution_count": null,
   "metadata": {},
   "outputs": [],
   "source": []
  },
  {
   "cell_type": "code",
   "execution_count": null,
   "metadata": {},
   "outputs": [],
   "source": [
    "### Running this cell will check your answer for Question 2, Part A\n",
    "grader.check('hw04_q2a')"
   ]
  },
  {
   "cell_type": "markdown",
   "metadata": {},
   "source": [
    "### Part B (2 pts)\n",
    "\n",
    "Write the function `expected_count` that takes in a string of text and returns a 26 element list that describes how many of each character that would be expected in a text equal in length to the provided length.\n",
    "\n",
    "**Criteria:**\n",
    "1. The function must be named `expected_count` exactly\n",
    "2. The function must have exactly 2 input arguments:\n",
    "   * argument 1 (str): a passage of either plaintext or ciphertext\n",
    "   * argument 2 (str, optional): The alphabet used in `argument 1` set to a default of `'ABCDEFGHIJKLMNOPQRSTUVWXYZ'`\n",
    "3. The function shoud \"clean\" `argument 1` using the `text_clean` function before it is used\n",
    "4. No `docstring` is needed for this function\n",
    "5. The function must return a `list`\n",
    "   * The list should have exactly 26 elements\n",
    "   * Each element should be a `float` object\n",
    "   * Each element should represent the expected count of each letter contained in a plaintext that is equal in length to the message contained in `argument 1`\n",
    "   * element 0 should represent the expected number of A's, element 1 should represent the expected number of B's, etc.\n",
    "6. The function should use a loop and the `append` operation to generate the list that will be returned\n",
    "\n",
    "**Hint**: You can use the list below that contains decimal versions of percentages for the standard English distribution of letters:\n",
    "\n",
    "```\n",
    "[0.08167, 0.01492, 0.02202, 0.04253, 0.12702, 0.02228, 0.02015, 0.06094, 0.06966, 0.00153, 0.01292, 0.04025, 0.02406, 0.06749, 0.07507, 0.01929, 0.00095, 0.05987, 0.06327, 0.09356, 0.02758, 0.00978, 0.02560, 0.00150, 0.01994, 0.00077]\n",
    "```"
   ]
  },
  {
   "cell_type": "markdown",
   "metadata": {},
   "source": [
    "**Sample Test Cases:**\n",
    "```\n",
    ">>> expected_count( 'HELLO' )\n",
    "[0.40835000000000005, 0.0746, 0.1101, 0.21265, 0.6351, 0.1114, 0.10075, 0.3047, 0.3483, 0.00765, 0.06459999999999999, 0.20125, 0.1203, 0.33744999999999997, 0.37534999999999996, 0.09645000000000001, 0.00475, 0.29935, 0.31635, 0.4678, 0.1379, 0.0489, 0.128, 0.0075, 0.0997, 0.0038499999999999997]\n",
    "\n",
    ">>> expected_count( ciphertext )\n",
    "[60.762480000000004, 11.10048, 16.38288, 31.642319999999998, 94.50287999999999, 16.576320000000003, 14.991600000000002, 45.33936, 51.82704, 1.13832, 9.61248, 29.946, 17.900640000000003, 50.212559999999996, 55.85208, 14.35176, 0.7068, 44.54328, 47.072880000000005, 69.60864000000001, 20.51952, 7.27632, 19.046400000000002, 1.116, 14.83536, 0.57288]\n",
    "```"
   ]
  },
  {
   "cell_type": "code",
   "execution_count": null,
   "metadata": {},
   "outputs": [],
   "source": []
  },
  {
   "cell_type": "code",
   "execution_count": null,
   "metadata": {},
   "outputs": [],
   "source": [
    "### Running this cell will check your answer for Question 2, Part B\n",
    "grader.check('hw04_q2b')"
   ]
  },
  {
   "cell_type": "markdown",
   "metadata": {},
   "source": [
    "### Part C (4 pts)\n",
    "\n",
    "Write a function `chi_squared_score` that takes in a string, uses the functions `expected_count` and `character_count`, and returns the chi-squared score of the input string.\n",
    "\n",
    "**Criteria:**\n",
    "1. The function must be named `chi_squared_score` exactly\n",
    "2. The function must have exactly 2 input arguments:\n",
    "   * argument 1 (str): a passage of either plaintext or ciphertext\n",
    "   * argument 2 (str, optional): The alphabet used in `argument 1` set to a default of `'ABCDEFGHIJKLMNOPQRSTUVWXYZ'`\n",
    "3. The function shoud \"clean\" `argument 1` using the `text_clean` function before it is used\n",
    "4. No `docstring` is needed for this function\n",
    "5. The function must return a `float` that represents the sum of the normalized squared errors based on `argument 1`\n",
    "\n",
    "__Hint:__ One way to approach this problem is to first create a 26 element `list` of the normalized squared errors. Before creating this list, it would be helpful to generate at least two \"helper\" lists:\n",
    "   * a list of the expected count of characters in the plaintext \n",
    "   * a list of the actual count of characters in `argument 1`\n",
    "   \n",
    "and then use these two lists to generate a list of normalized squared errors. There is a built-in Python function `sum` that will sum all the elements in a collection. You can use it as follows: `sum( [1, 2, 3] )` or `sum( name_of_list )`"
   ]
  },
  {
   "cell_type": "markdown",
   "metadata": {},
   "source": [
    "**Sample Test Cases:**\n",
    "```\n",
    ">>> chi_squared_score( ciphertext )\n",
    "13615.47519299308\n",
    "```"
   ]
  },
  {
   "cell_type": "code",
   "execution_count": null,
   "metadata": {},
   "outputs": [],
   "source": []
  },
  {
   "cell_type": "code",
   "execution_count": null,
   "metadata": {},
   "outputs": [],
   "source": [
    "### Running this cell will check your answer for Question 2, Part C\n",
    "grader.check('hw04_q2c')"
   ]
  },
  {
   "cell_type": "markdown",
   "metadata": {},
   "source": [
    "### Part D (2 pts)\n",
    "\n",
    "Now that you have a way to calculate the chi-squared score for a variety of candidates, we'll need to generate and score our candidates. Let's assume that our ciphertext was generated using the Caesar cipher.\n",
    "\n",
    "In the cell below write a function `caesar_scorer` that returns a list of chi-squared scores for all 26 plaintext candidates.\n",
    "\n",
    "**Criteria:**\n",
    "1. The function must be named `caesar_scorer` exactly\n",
    "2. The function must have exactly 2 input arguments:\n",
    "   * argument 1 (str): a passage of either plaintext or ciphertext\n",
    "   * argument 2 (str, optional): The alphabet used in `argument 1` set to a default of `'ABCDEFGHIJKLMNOPQRSTUVWXYZ'`\n",
    "3. The function shoud \"clean\" `argument 1` using the `text_clean` function before it is used\n",
    "4. No `docstring` is needed for this function\n",
    "5. The function must return a `list`\n",
    "   * The list should have exactly 26 elements\n",
    "   * Each element should be a `float` object\n",
    "   * Each element should represent a chi-squared score generated using the `caesar` and `chi_squared_score` functions\n",
    "   * Element 0 should represent the chi-squared when using `caesar` to decipher `argument 1` with key 0, Element 1 should represent the chi-squared when using `caesar` to decipher `argument 1` with key 1, etc.\n",
    "6. The function should use a loop and the `append` operation to generate the list that will be returned"
   ]
  },
  {
   "cell_type": "markdown",
   "metadata": {},
   "source": [
    "**Sample Test Cases:**\n",
    "```\n",
    ">>> caesar_scorer( 'HELLO' )\n",
    "[22.419528323566897, 74.53412783887602, 544.2707817635634, 26.45577759442753, 30.78208525260472, 434.2671993736693, 57.23574687938866, 140.3854503628539, 291.3116696400298, 70.8103572412429, 190.8019230876682, 19.47134711613135, 1066.6777446386084, 59.14048967531066, 743.4692944294621, 299.54248188851915, 92.85753260911373, 370.85267757674177, 30.0668809854318, 35.750345119003754, 34.080294714310476, 978.2975350287999, 47.4964534569183, 27.78218443228838, 358.0475362924121, 50.489122994055684]\n",
    "\n",
    ">>> caesar_scorer( ciphertext )\n",
    "[13615.47519299308, 2317.657832625157, 5582.638314540754, 6116.345526578418, 7350.217416328631, 13823.33393262407, 3356.3322622792252, 2890.819636259512, 3922.7969992693743, 14358.916438577256, 8336.845982449739, 4217.199653336609, 10576.450179439122, 8103.256883574919, 4382.858003998274, 12694.478772777033, 8587.099287903793, 6988.617876548996, 6059.744462727922, 8114.360237475129, 4236.744583544989, 30.65097328110476, 12372.66678503298, 4526.252115419933, 14533.322951377879, 5475.118911902521]\n",
    "```"
   ]
  },
  {
   "cell_type": "code",
   "execution_count": null,
   "metadata": {},
   "outputs": [],
   "source": []
  },
  {
   "cell_type": "code",
   "execution_count": null,
   "metadata": {},
   "outputs": [],
   "source": [
    "### Running this cell will check your answer for Question 2, Part D\n",
    "grader.check('hw04_q2d')"
   ]
  },
  {
   "cell_type": "markdown",
   "metadata": {},
   "source": [
    "### Part E (2 pts)\n",
    "\n",
    "The cell below will run your `caesar_scorer` function and store the `list` it store it to the variable `list_of_scores`. No need to change it, just run it."
   ]
  },
  {
   "cell_type": "code",
   "execution_count": null,
   "metadata": {},
   "outputs": [],
   "source": [
    "list_of_scores = caesar_scorer( ciphertext )"
   ]
  },
  {
   "cell_type": "markdown",
   "metadata": {},
   "source": [
    "The built-in Python function `min` function will return the lowest value of the collection that is passed into it.\n",
    "\n",
    "For example:\n",
    "```\n",
    ">>> myList = [ 2, 5, 0, -1, 7 ]\n",
    ">>> min( myList )\n",
    "-1\n",
    "```\n",
    "\n",
    "Use the `min` function to determine the lowest chi-squared value found in `list_of_scores` and store it to the variable `minimum_chi_score`."
   ]
  },
  {
   "cell_type": "code",
   "execution_count": null,
   "metadata": {},
   "outputs": [],
   "source": [
    "minimum_chi_score = ...\n",
    "print( minimum_chi_score )"
   ]
  },
  {
   "cell_type": "code",
   "execution_count": null,
   "metadata": {},
   "outputs": [],
   "source": [
    "### Running this cell will check your answer for Question 2, Part E\n",
    "grader.check('hw04_q2e')"
   ]
  },
  {
   "cell_type": "markdown",
   "metadata": {},
   "source": [
    "### Part F (2 pts)\n",
    "\n",
    "We carefully constructed `list_of_scores` so that the value at `list_of_scores[0]` is the score from the candidate text obtained by using the caesar cipher with a key of 0. Likewise, `list_of_scores[7]` is the score from the candidate text obtained by using the caesar cipher with a key of 7.\n",
    "\n",
    "Use the `.index` method (which works with lists just like it works for strings) to determine which at which index `min_chi_score` is located in `list_of_scores`. Store this value to the variable `key_used`. This should hopefully match your prediction you made earlier in Question 1 based on the barchart."
   ]
  },
  {
   "cell_type": "code",
   "execution_count": null,
   "metadata": {},
   "outputs": [],
   "source": [
    "key_used = ...\n",
    "print( key_used )"
   ]
  },
  {
   "cell_type": "code",
   "execution_count": null,
   "metadata": {},
   "outputs": [],
   "source": [
    "### Running this cell will check your answer for Question 2, Part E\n",
    "grader.check('hw04_q2f')"
   ]
  },
  {
   "cell_type": "markdown",
   "metadata": {},
   "source": [
    "### Part G (2 pts)\n",
    "\n",
    "Run the cell below. If all the previous steps were completed correctly, the code should display the plaintext obtained by using the caesar cipher on `ciphertext` using `key_used` which was determined by selecting the key that resulted in the candidate with the lowest chi-squared score."
   ]
  },
  {
   "cell_type": "code",
   "execution_count": null,
   "metadata": {},
   "outputs": [],
   "source": [
    "print( caesar( ciphertext, key_used, False ) )"
   ]
  },
  {
   "cell_type": "code",
   "execution_count": null,
   "metadata": {},
   "outputs": [],
   "source": [
    "### Running this cell will check your answer for Question 2, Part E\n",
    "grader.check('hw04_q2g')"
   ]
  },
  {
   "cell_type": "markdown",
   "metadata": {},
   "source": [
    "Does the result make sense based on the guess you made in Question 1 about the type of cipher and key(s) used?"
   ]
  },
  {
   "cell_type": "markdown",
   "metadata": {},
   "source": [
    "# Checking Your Work\n",
    "\n",
    "Before submitting your work, you can check that your solutions pass the neccesary tests by running the cell below:"
   ]
  },
  {
   "cell_type": "code",
   "execution_count": null,
   "metadata": {},
   "outputs": [],
   "source": [
    "grader.check_all()"
   ]
  },
  {
   "cell_type": "markdown",
   "metadata": {},
   "source": [
    "Note that the provided tests are just sample tests that the autograder will use to score your homework. If your code meets all the criteria listed in the description for each question, it should pass all the private tests that the autograder runs as well."
   ]
  },
  {
   "cell_type": "markdown",
   "metadata": {},
   "source": [
    "# Submitting Your Work\n",
    "\n",
    "1. Save this notebook using the save icon\n",
    "2. In the File Browser to the left, right click on this file (`spring2020-hw04.ipynb`) and download it to your computer as a `.ipynb` file\n",
    "3. Submit the `spring2020-hw04.ipynb` file to Gradescope via the Canvas Assignment."
   ]
  }
 ],
 "metadata": {
  "kernelspec": {
   "display_name": "Python 3",
   "language": "python",
   "name": "python3"
  },
  "language_info": {
   "codemirror_mode": {
    "name": "ipython",
    "version": 3
   },
   "file_extension": ".py",
   "mimetype": "text/x-python",
   "name": "python",
   "nbconvert_exporter": "python",
   "pygments_lexer": "ipython3",
   "version": "3.7.3"
  }
 },
 "nbformat": 4,
 "nbformat_minor": 4
}
