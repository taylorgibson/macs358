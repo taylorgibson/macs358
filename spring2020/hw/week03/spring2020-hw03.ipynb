{
 "cells": [
  {
   "cell_type": "markdown",
   "metadata": {},
   "source": [
    "# MA/CS 358: Week 03 Graded Homework - Spring 2020\n",
    "\n",
    "*Please edit this Markdown cell and include your name below:*\n",
    "\n",
    "**Name:** \n",
    "\n",
    "## Run the cell below every time you log in!"
   ]
  },
  {
   "cell_type": "code",
   "execution_count": 3,
   "metadata": {},
   "outputs": [],
   "source": [
    "import otter\n",
    "grader = otter.Notebook('tests')\n",
    "from utils import *"
   ]
  },
  {
   "cell_type": "markdown",
   "metadata": {},
   "source": [
    "The cell above loads the autograder which runs the tests for each problem. If you don't run it each time you load this notebook, you'll get error messages when running the tests in each question."
   ]
  },
  {
   "cell_type": "markdown",
   "metadata": {},
   "source": [
    "__Deadline:__\n",
    "\n",
    "> This assignment is due **Sunday, March 22 at 5:00 P.M**. Late work will receive a 10% deduction for up to 24 hours late and a 20% deduction for between 24 and 48 hours late. No work will be accepted after 48 hours after the deadline. You should start early so that you have time to get help if you're stuck. Office hours are held Monday-Friday via Zoom, and help can also be found in the Slack workspace.\n",
    "\n",
    "__Academic Honesty:__\n",
    "\n",
    "> Discussing problems with the instructors is encouraged. You should __not__ discuss the problems or solutions with other students in the course."
   ]
  },
  {
   "cell_type": "markdown",
   "metadata": {},
   "source": [
    "# Question 1: Writing the `multiplicative` function (10 pts)\n",
    "Multiplicative Cipher Refresher: https://macs358.org/chapters/04/5/multiplicative-cipher.html\n",
    "\n",
    "In the code cell below write a function named `multiplicative` that implements the multiplicative cipher.\n",
    "\n",
    "**Criteria:**\n",
    "\n",
    "1.  The function must be named `multiplicative` exactly.\n",
    "\n",
    "\n",
    "2.  The function must have exactly 4 input argurments:\n",
    "  * argument 1: a string that can represent either plaintext or ciphertext\n",
    "  * argument 2: an integer that represents the key for the cipher\n",
    "  * argument 3: a boolean optional keyword argument named `encipher`, set to `True`, that controls if the function will encipher or decipher the string passed to argument 1. `True` should trigger enciphering, `False` should trigger deciphering.\n",
    "  * argument 4: a string optional keyword argument named `LETTERS`, set to `ABCDEFGHIJKLMNOPQRSTUVWXYZ` that specifies which alphabet your messages will use.\n",
    "\n",
    "\n",
    "3.  The function should have a `docstring` defined.\n",
    "\n",
    "\n",
    "4.  The function must return a string:\n",
    "  * If the function receives an invalid multiplicative key for the size of the alphabet, the returned string should be exactly `'Invalid Key'`.\n",
    "  * Otherwise, the string returned should represent either plaintext or ciphertext (depending on the `True/False` value of argument 3)\n",
    "     - The string should be formatted appropriately for the type of message it represents\n",
    "     - plaintext should be lower-case letters and no spaces\n",
    "     - ciphertext should be upper-case letters and blocked into character groups of size 5\n",
    "\n",
    "\n",
    "5.  The following functions previously discussed in the course are pre-loaded into this notebook for your use:\n",
    "  * `text_clean`\n",
    "  * `text_block`\n",
    "  * `calculate_mkey`\n",
    "  * `char_to_int`\n",
    "  * `int_to_char`\n",
    "\n",
    "\n",
    "6.  Your function should allow for any string input that includes upper-case, lower-case, spaces, and characters, but should clean the text such that the output only contains characters contained in the input argument `LETTERS`.\n",
    "\n",
    "\n",
    "\n",
    "**Sample Test Cases**\n",
    "\n",
    "```\n",
    ">>> multiplicative( 'NEPTUNE', 5 )\n",
    "'NUXRW NU'\n",
    "\n",
    ">>> multiplicative( 'Jupiter', 17 )\n",
    "'XCVGL QD'\n",
    "\n",
    ">>> multiplicative( 'Pluto, sadly not a planet!', 9, True, 'ABCDEFGHIJKLMNOPQRSTUVWXYZ' )\n",
    "'FVYPW GABVI NWPAF VANKP'\n",
    "\n",
    ">>> multiplicative( 'NUXRW NU', 5, False )\n",
    "'neptune'\n",
    "\n",
    ">>> multiplicative( 'Venus', 2 )\n",
    "'Invalid Key'\n",
    "```"
   ]
  },
  {
   "cell_type": "code",
   "execution_count": 9,
   "metadata": {},
   "outputs": [],
   "source": []
  },
  {
   "cell_type": "code",
   "execution_count": 10,
   "metadata": {},
   "outputs": [
    {
     "data": {
      "text/html": [
       "\n",
       "    \n",
       "    \n",
       "        <p>0 of 1 tests passed</p>\n",
       "        \n",
       "        \n",
       "        <p> <strong>Tests failed: </strong>\n",
       "            <ul>\n",
       "            \n",
       "                <li> \n",
       "    <p><strong style='color: red;'>tests/hw03_q1.py</strong></p>\n",
       "    <p><strong>Test code:</strong><pre><div class=\"highlight\" style=\"background: #f8f8f8\"><pre style=\"line-height: 125%\"><span></span><span style=\"color: #000080; font-weight: bold\">&gt;&gt;&gt; </span><span style=\"color: #008000\">isinstance</span>( multiplicative, function )\n",
       "<span style=\"color: #888888\">True</span>\n",
       "</pre></div>\n",
       "</pre></p>\n",
       "    <p><strong>Test result:</strong><pre>Trying:\n",
       "    isinstance( multiplicative, function )\n",
       "Expecting:\n",
       "    True\n",
       "**********************************************************************\n",
       "Line 2, in tests/hw03_q1.py 0\n",
       "Failed example:\n",
       "    isinstance( multiplicative, function )\n",
       "Exception raised:\n",
       "    Traceback (most recent call last):\n",
       "      File \"/opt/conda/lib/python3.7/doctest.py\", line 1329, in __run\n",
       "        compileflags, 1), test.globs)\n",
       "      File \"<doctest tests/hw03_q1.py 0[0]>\", line 1, in <module>\n",
       "        isinstance( multiplicative, function )\n",
       "    NameError: name 'function' is not defined\n",
       "</pre></p>\n",
       "     </li>\n",
       "            \n",
       "            </ul>\n",
       "        \n",
       "    \n",
       "    "
      ],
      "text/plain": [
       "\n",
       "    \n",
       "    0 of 1 tests passed\n",
       "    \n",
       "    \n",
       "    Tests failed:\n",
       "    \n",
       "           tests/hw03_q1.py\n",
       "\n",
       "Test result:\n",
       "Trying:\n",
       "    isinstance( multiplicative, function )\n",
       "Expecting:\n",
       "    True\n",
       "**********************************************************************\n",
       "Line 2, in tests/hw03_q1.py 0\n",
       "Failed example:\n",
       "    isinstance( multiplicative, function )\n",
       "Exception raised:\n",
       "    Traceback (most recent call last):\n",
       "      File \"/opt/conda/lib/python3.7/doctest.py\", line 1329, in __run\n",
       "        compileflags, 1), test.globs)\n",
       "      File \"<doctest tests/hw03_q1.py 0[0]>\", line 1, in <module>\n",
       "        isinstance( multiplicative, function )\n",
       "    NameError: name 'function' is not defined\n",
       "\n",
       "    \n",
       "    \n",
       "    \n",
       "    "
      ]
     },
     "execution_count": 10,
     "metadata": {},
     "output_type": "execute_result"
    }
   ],
   "source": [
    "### Running this cell will check your answer for Question 1\n",
    "grader.check('hw03_q1')"
   ]
  },
  {
   "cell_type": "markdown",
   "metadata": {},
   "source": [
    "# Question 2: Writing the `affine` function (10 pts)\n",
    "Affine Cipher Refresher: https://macs358.org/chapters/04/6/affine-cipher.html\n",
    "\n",
    "In the code cell below write a function named `affine` that implements the affine cipher. \n",
    "\n",
    "**Criteria:**\n",
    "\n",
    "1.  The function must be named `affine` exactly.\n",
    "\n",
    "\n",
    "2.  The function must have exactly 5 input argurments:\n",
    "  * argument 1: a string that can represent either plaintext or ciphertext\n",
    "  * argument 2: an integer that represents the multiplicative key for the cipher\n",
    "  * argument 3: an integer that represents the additive key for the cipher\n",
    "  * argument 4: a boolean optional keyword argument named `encipher`, set to `True`, that controls if the function will encipher or decipher the string passed to argument 1. `True` should trigger enciphering, `False` should trigger deciphering.\n",
    "  * argument 5: a string optional keyword argument named `LETTERS`, set to `ABCDEFGHIJKLMNOPQRSTUVWXYZ` that specifies which alphabet your messages will use.\n",
    "\n",
    "\n",
    "3.  The function must have a `docstring` defined.\n",
    "\n",
    "\n",
    "4.  The function must return a string:\n",
    "  * If the function receives an invalid multiplicative key for the size of the alphabet, the returned string should be exactly `'Invalid Key'`.\n",
    "  * Otherwise, the string returned should represent either plaintext or ciphertext (depending on the `True/False` value of argument 4)\n",
    "     - The string should be formatted appropriately for the type of message it represents\n",
    "     - plaintext should be lower-case letters and no spaces\n",
    "     - ciphertext should be upper-case letters and blocked into character groups of size 5\n",
    "\n",
    "\n",
    "5.  The following functions previously discussed in the course are pre-loaded into this notebook for your use:\n",
    "  * `text_clean`\n",
    "  * `text_block`\n",
    "  * `calculate_mkey`\n",
    "  * `char_to_int`\n",
    "  * `int_to_char`\n",
    "\n",
    "\n",
    "6.  Your function should allow for any string input that includes upper-case, lower-case, spaces, and characters, but should clean the text such that the output only contains characters contained in the input argument `LETTERS`.\n",
    "\n",
    "\n",
    "\n",
    "**Sample Test Cases**\n",
    "\n",
    "```\n",
    ">>> affine( 'MERCURY', 7, 23 )\n",
    "'DZMLH MJ'\n",
    "\n",
    ">>> affine( 'Europa', 3, 10 )\n",
    "'WSJAD K'\n",
    "\n",
    ">>> affine( 'Ganymede Station?', 25, 8, True, 'ABCDEFGHIJKLMNOPQRSTUVWXYZ' )\n",
    "'CIVKW EFEQP IPAUV'\n",
    "\n",
    ">>> affine( 'DZMLH MJ', 7, 23, False )\n",
    "'mercury'\n",
    "\n",
    ">>> affine( 'Callisto', 4, 8 )\n",
    "'Invalid key'\n",
    "```"
   ]
  },
  {
   "cell_type": "code",
   "execution_count": null,
   "metadata": {},
   "outputs": [],
   "source": []
  },
  {
   "cell_type": "code",
   "execution_count": null,
   "metadata": {},
   "outputs": [],
   "source": [
    "### Running this cell will check your answer for Question 2\n",
    "grader.check('hw03_q2')"
   ]
  },
  {
   "cell_type": "markdown",
   "metadata": {},
   "source": [
    "# Checking Your Work\n",
    "\n",
    "Before submitting your work, you can check that your solutions pass the neccesary tests by running the cell below:"
   ]
  },
  {
   "cell_type": "code",
   "execution_count": null,
   "metadata": {},
   "outputs": [],
   "source": [
    "grader.check_all()"
   ]
  },
  {
   "cell_type": "markdown",
   "metadata": {},
   "source": [
    "Note that the provided tests are just sample tests that the autograder will use to score your homework. If your code meets all the criteria listed in the description for each question, it should pass all the private tests that the autograder runs as well."
   ]
  },
  {
   "cell_type": "markdown",
   "metadata": {},
   "source": [
    "# Submitting Your Work\n",
    "\n",
    "1. Save this notebook using the save icon\n",
    "2. In the File Browser to the left, right click on this file (`spring2020-hw03.ipynb`) and download it to your computer as a `.ipynb` file\n",
    "3. Submit the `spring2020-hw03.ipynb` file to Gradescope via the Canvas Assignment (this is new this week!)\n",
    "   * No need to log into Gradescope directly, as the Gradescope submit page should load up right in the assignment itself."
   ]
  }
 ],
 "metadata": {
  "kernelspec": {
   "display_name": "Python 3",
   "language": "python",
   "name": "python3"
  },
  "language_info": {
   "codemirror_mode": {
    "name": "ipython",
    "version": 3
   },
   "file_extension": ".py",
   "mimetype": "text/x-python",
   "name": "python",
   "nbconvert_exporter": "python",
   "pygments_lexer": "ipython3",
   "version": "3.7.3"
  }
 },
 "nbformat": 4,
 "nbformat_minor": 4
}
