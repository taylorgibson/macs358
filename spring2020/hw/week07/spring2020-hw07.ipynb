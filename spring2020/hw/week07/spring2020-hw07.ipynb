{
 "cells": [
  {
   "cell_type": "markdown",
   "metadata": {},
   "source": [
    "# MA/CS 358: Week 07 Graded Homework - Spring 2020\n",
    "\n",
    "*Please complete this notebook by filling in the code cells as indicated.*"
   ]
  },
  {
   "cell_type": "markdown",
   "metadata": {},
   "source": [
    "Double-click into this cell, type your name, and run the cell to finalize the changes.\n",
    "\n",
    "**Name:** -----"
   ]
  },
  {
   "cell_type": "markdown",
   "metadata": {},
   "source": [
    "## 0. Run The Cell Below Everytime You Log In\n",
    "\n",
    "To get you started, run the cell below to load the autograder and toolkit for this homework assignment. Functions that are included:\n",
    "* `text_clean`\n",
    "* `text_block`\n",
    "* `char_to_int`\n",
    "* `int_to_char`\n",
    "* `caesar`\n",
    "* `multiplicative`\n",
    "* `character_frequency`\n",
    "* `character_count`\n",
    "* `expected_count`\n",
    "* `chi_squared_score`\n",
    "* `caesar_scorer`\n",
    "* `affine`\n",
    "* `tabula_recta`\n",
    "* `trithemius_keygen`\n",
    "* `trithemius`\n",
    "* `vigenere_keygen`\n",
    "* `vigenere`\n",
    "* `autokey`\n",
    "\n",
    "You will not need to use all of these function, but they're included in the \"full toolkit\" of functions you've programmed up to this point in the course. You should not add any functions to the toolkit, as they will not be carried over to Gradescope for grading.\n",
    "\n",
    "There are also 2 ciphertexts in the toolkit that will be used throughout this assignment:\n",
    "\n",
    "### Ciphertext 1 "
   ]
  },
  {
   "cell_type": "raw",
   "metadata": {},
   "source": [
    "CSMULERWDLKAUVZRIASYLBMITFXAYMUSHZMLAQEKDFLWYAZWVLVGUBYIDHRCHVUSHOENPVXRQALAUOKSFVSFJMFVVDMULAYIJHHHLMGIFPRLVBYIDVSCOMIWKZXWYERWTLEVPVXFWAMLOIURQWMUACIIUVVUVVMITZELPWEWKUMLHVUAJHXAZBYIWZIGMISSQRXZVCXLVHPAJMNMVOSMAXZGVBVWZWIGQUZWYARXKVRKZWJLGDEKJWEWKKIJPVXMPOIJVEEQKUHSZEVPNHWKOMTSWSHXVZKLGOSLKIPQCKIZLZWIGSZWYGJPGLTQHVUWVBTAKEYIVOIJAPVTNLEKBZVSHTECPVXEFHMKFKYEKUAGBTUFGDSJAPKLGAVGBJCIQMKWABZRIBTSULGMERMFNBYIFHMKPMJAJLRKBLUIPSCSDPZXGYETIQKAKALHPVBIALWJHVTPQZITFPVVVOIJLERWPVXZPVXWQCIJFZVQCYOSITVMPALSAVFVFPHSSQTIVOMFRQKWQCIJFULGJVYLVNKLGDEQAWYICYXZLZRFDPXKHGKSKAWWSNFLFLEJVPUICYMKOICPDLPSAMNLGUWZLBYSWNLLPBFZGYEXAMIACYHKPBFGEBVJLLKSJLVLOIKWJLSMNPKXQOENLEFRFLVWKIKXJPWTBBRXVOILPUVMVHPDZMVQGKUMPBVRCAYJHTSYVDLWUBYITHFTPBRGVBEDSGKSQREOHBTLQBXGMQKWYHMKAKFEVWSURMKEPKPGVSVHCAMLHVUXJLRZBZIMGKSFHTZGGZXSYBVHVVLWYNVIVMSJPBWPCZLWKITVQZWZLZDMPKXZHBJLGOEVUMMITIIXVZVWGLRSYISFKAAAAPVMVOIJHERMUAGGHBGSERILVZRACAGZAWKEMLSMAWWMVHRVICIRKUKOPBYGWYMGZQKCUOIJHVRGTVWKAPVJKLPVHNKITPXSULWSTAYFHBVPADEKQCJXKUXATMKSULIAAXFTFVAFHTRVILVSIJZXJVPWBVUITALWOMUKG"
   ]
  },
  {
   "cell_type": "markdown",
   "metadata": {},
   "source": [
    "### Ciphertext 2"
   ]
  },
  {
   "cell_type": "raw",
   "metadata": {},
   "source": [
    "IODKNNSFXUASXHROHAJGDSRSHNKMWFELFIRJOZHIAFKTEAHFCOAWZKCHIYTNJRREVNKUXUHODKRAMQWCHSZXLKTESSPPDSJJVMMEWGIIRPAAYGDOZHJDWFIUWBPWBBKTMPDGTIJWGDEGDSDZNEBRMSPSQRLAODSYZXAANOJQVLPOXPGDWZEAZPDSJJOZHEAAURQARARRKTMGBHHRSEOVQRRRSDWRAAQHGKYZSJSVMXGKRAAVPVTIEHCZKYEANWJDWOLJAFQZRNMYYPDWZLRNKMCFDSTEQWRQGVZSPQBQHTEPKAUGNHBAWRWBPWUWFBKEWMQCROKTMPDOBTRWFQHGKGQIRRSDCGDWZKNJRIIEAPKXHNBEJVAFOISQBZCBNHTSHCVFJHHVQVYKBSXUEQWLNEFIEFDSDSAAPQEHPMNYGEHIEFQGGEYHMNYAZZQHVJHAEAAHFSOACGXBBVQVJWMDSHJRELBQZPIEOVMHWKPUKUWBPWNJRRIRPORPLWKMCYKCWXBDSDGYKHTIFWBPXUAIZGBITAVGWPXINLDQEEWBOIBBOSMEHKTSJWGDECERXCFDCAXVJUGTVJHAEJKAMRNJRPMQJHXMXAWFIYENMFRPVAVOAHTEFAJQVLKBQGNHZQHUAFIEFWFAWLOAASGDVMMEARNVVCVFILARSMEHCRXUEFFIRJKUXUWGTCZWBZIEWHUQVZJAMPAOZHNLSMGRBIXIKLFQWFECZAUEQTANOGQPQKAPMFPIDFRZVQVSWHTIEYOXPRZVQVYEHFPRIWEWGNOZUHEZUXLWBPXUABMQROIUXRZVQVRTQQPYABFPLBCDWUAGQIZARFSYEJQMAWVMTCUKAVYZCRLRNCIRBJZKZRJHGVVJUAYGPCYIRPHTISAKILBIGTIGNIEXRZOZHYKJQHNIMFLBQUTXUAMAYACSEXJWGMQBOHUQCKFFEAPDQVFKBURUAFAAAKDURVKBMXYAOEXNNSSYYWFERBSAMMQABIMGDPXYRAMQWNJRKIYHCILNEFOYEHWZKBJVQVFDCGPQAFETNHSMRQOZQRQAFMRQWZIELOQMVEUWZKUAFEIYBZUORWMAYACZMHLIWZHSQZAJUAFYEAJSDWJDOFXUAQTEEWQFIEOCRXUATAYEOWEXRNGIIEAKQAVHZXINRSFSOATAYAZCGX"
   ]
  },
  {
   "cell_type": "markdown",
   "metadata": {},
   "source": [
    "They will be imported as the objects `ciphertext_1` and `ciphertext_2` respectively."
   ]
  },
  {
   "cell_type": "code",
   "execution_count": null,
   "metadata": {},
   "outputs": [],
   "source": [
    "import otter\n",
    "grader = otter.Notebook('tests')\n",
    "from hw07_toolkit import *"
   ]
  },
  {
   "cell_type": "markdown",
   "metadata": {},
   "source": [
    "## 1. Index of Coincidence (2 pts)\n",
    "\n",
    "The index of coincidence is a numerical statistic that indicates how likely it is that you select two letters from your ciphertext and those two letters are the same (e.g. both A's, or both B's, or both C's, etc.). Write a function that calculates this score.\n",
    "\n",
    "**Criteria:**\n",
    "1. The function must be named `index_of_coincidence` exactly\n",
    "2. The function must have exactly 2 input arguments:\n",
    "   * `argument 1` (str): a piece of text\n",
    "   * `LETTERS` (str, optional): The alphabet used in `argument 1`. Should default to `'ABCDEFGHIJKLMNOPQRSTUVWXYZ'`\n",
    "3. The function must return a `float` object that represents the index of coincidence\n",
    "4. A `docstring` should be written for this function\n",
    "\n",
    "**Sample Test Cases**:\n",
    "```\n",
    ">>> index_of_coincidence('Hello', 'ABCDEFGHIJKLMNOPQRSTUVWXYZ')\n",
    "0.1\n",
    "\n",
    ">>> index_of_coincidence('THISISASENTENCETHATISNTVERYLONGBUTIHOPETHATITSCORESLIKEAMONOALPHABETICCIPHER')\n",
    "0.06666666666666665\n",
    "\n",
    ">>> index_of_coincidence( ciphertext_1 )\n",
    "0.04374254260564173\n",
    "\n",
    ">>> index_of_coincidence( ciphertext_2 )\n",
    "0.041102256768198724\n",
    "```"
   ]
  },
  {
   "cell_type": "code",
   "execution_count": null,
   "metadata": {},
   "outputs": [],
   "source": []
  },
  {
   "cell_type": "code",
   "execution_count": null,
   "metadata": {},
   "outputs": [],
   "source": [
    "### Running this cell will check your answer for Question 1\n",
    "grader.check('hw07_q1')"
   ]
  },
  {
   "cell_type": "markdown",
   "metadata": {},
   "source": [
    "# 2. Cracking the Vigenere Computationally\n",
    "This question will have you working through cracking the Vigenere cipher using the computational approach described in [Chapter 8, Section 4](https://macs358.org/chapters/08/4/find-keylength-with-IC.html) of using the index of coincidence to determine how likely the length of a given keyword is, and then using Chi-Squared scoring to determine the characters in the keyword.\n",
    "\n",
    "## Part A: Splitting Text (4 pts)\n",
    "\n",
    "Write a function that can split a ciphertext into groups of characters based on a guess for the length of the keyword, where each group contains characters that are assumed to be enciphered from the same character in the keyword.\n",
    "\n",
    "**Criteria:**\n",
    "1. The function must be named `text_split` exactly\n",
    "2. The function must have exactly 2 input arguments:\n",
    "   * `argument 1` (str): a piece of text\n",
    "   * `argument 2` (int): an integer that represents the assumed length of the keyword\n",
    "3. The function must return a `list` object where each element is a string. Each string is a group of characters that would have been enciphered using the same character in the keyword.\n",
    "4. A `docstring` should be written for this function\n",
    "\n",
    "**Sample Test Cases**:\n",
    "```\n",
    ">>> text_split('Hello', 5)\n",
    "['H', 'E', 'L', 'L', 'O']\n",
    "\n",
    ">>> text_split('Cryptography is Awesome', 6)\n",
    "['CGIO', 'RRSM', 'YAAE', 'PPW', 'THE', 'OYS']\n",
    "\n",
    ">>> text_split( ciphertext_1, 15 )\n",
    "['CRUAHAMPKFIWZZSUGMVZLQITKLZBBTWOQMTUAKELWAKPKLUDVLFSBSSZGWVBAVMVTPKTB',\n",
    " 'SISZVUURZWIEBVMZDPPKZHJEUGRYLIJICPILWHJPNCSKIPMLBQEVZYJWOGMGWIGWPASRV',\n",
    " 'MAHWUOLLXAUWYCAWEONLWVACAAIIUQHJIAVGYGVSLYJXKUPWEBVHIBPZELVSKCZKXDUVU',\n",
    " 'USZVSKAVWMVKIXXYKIHGIUPPGVBFIKVLJLOJIKPALHLQXVBUDXWCMVBLVROEEIQASELII',\n",
    " 'LYMLHSYBYLVUWLZAJJWOGWVVBGTHPATEFSMVCSUMPKVOJMVBSGSAGHWZUSIRMRKPUKILT',\n",
    " 'ELLVOFIYEOUMZVGRWVKSSVTXTBSMSKPRZAFYYKINBPLEPVRYGMUMKVPDMYJILKCVLQAVA',\n",
    " 'RBAGEVJIRIVLIHVXEEOLZBNEUJUKCAQWVVRLXACLFBONWHCIKQRLSVCMMIHLSUUJWCASL',\n",
    " 'WMQUNSHDWUVHGPBKWEMKWTLFFCLPSLZPQFQVZWYGZFILTPATSKMHFLZPISEVMKOKSJXIW',\n",
    " 'DIEBPFHVTRMVMAVVKQTIYAEHGIGMDHIVCVKNLWMUGGKEBDYHQWKVHWLKTFRZAOILTXFJO',\n",
    " 'LTKYVJHSLQIUIJWRKKSPGKKMDQMJPPTXYFWKZSKWYEWFBZJFRYEUTYWXIKMRWPJPAKTZM',\n",
    " 'KFDIXMLCEWTASMZKIUWQJEBKSMEAZVFZOPQLRNOZEBJRRMHTEHPXZNKZIAUAWBHVYUFXU',\n",
    " 'AXFDRFMOVMZJSNWZJHSCPYZFJKRJXBPPSHCGFFILXVLFXVTPOMKJGVIHXAACMYVHFXVJK',\n",
    " 'UALHQVGMPUEHQMIWPSHKGIVKAWMLGIVVISIDDLCBAJSLVQSBHKPLGITBVAGAVGRNHAAVG',\n",
    " 'VYWRAVIIVALXRVGJVZXILVSYPAFRYAVXTSJEPFPYMLMVOGYRBAGRZVVJZAGGHWGKBTFP',\n",
    " 'ZMYCLDFWXCPAXOQLXEVZTOHEKBNKELVWVQFQXLDSILNWIKVGTKVZXMQLVPHZRYTIVMHW']\n",
    "```"
   ]
  },
  {
   "cell_type": "code",
   "execution_count": null,
   "metadata": {},
   "outputs": [],
   "source": []
  },
  {
   "cell_type": "code",
   "execution_count": null,
   "metadata": {},
   "outputs": [],
   "source": [
    "### Running this cell will check your answer for Question 2, Part A\n",
    "grader.check('hw07_q2a')"
   ]
  },
  {
   "cell_type": "markdown",
   "metadata": {},
   "source": [
    "## Part B: Determining Keyword Length (4 pts)\n",
    "\n",
    "Now that we can split the text into corresponding groups based on how long we've guessed the keyword to be, we need to determine which keyword length is a likely candidate. Write a function that takes in a piece of text and returns the most likely keyword length, using the index of coincidence as the measure of fitness.\n",
    "\n",
    "**Criteria:**\n",
    "1. The function must be named `get_keyword_length` exactly\n",
    "2. The function must have exactly 2 input arguments:\n",
    "   * `argument 1` (str): a piece of text\n",
    "   * `LETTERS` (str, optional): The alphabet used in `argument 1`. Should default to `'ABCDEFGHIJKLMNOPQRSTUVWXYZ'`\n",
    "3. The function must return an `int` object that represents the likely length of the keyword used\n",
    "4. The function should start with a guessed keyword length of 2 and increase the guessed length by 1 until a likely length has been determined.\n",
    "5. The function must use the `text_split` function to generate a list of strings based on the guessed keyword length, calcuate the index of coincidence of each string in the list, and use the average index of coincidence of the strings to determine if the current keyword length is likely the correct guess.\n",
    "   * A correct guess would yield an average index of conincidence value that is \"near\" what you'd expect from a monoalphabetic cipher\n",
    "6. A `docstring` should be written for this function\n",
    "\n",
    "**Sample Test Cases**:\n",
    "```\n",
    ">>> get_keyword_length(ciphertext_1)\n",
    "8\n",
    "\n",
    ">>> get_keyword_length(ciphertext_2, 'ABCDEFGHIJKLMNOPQRSTUVWXYZ')\n",
    "5\n",
    "```"
   ]
  },
  {
   "cell_type": "code",
   "execution_count": null,
   "metadata": {},
   "outputs": [],
   "source": []
  },
  {
   "cell_type": "code",
   "execution_count": null,
   "metadata": {},
   "outputs": [],
   "source": [
    "### Running this cell will check your answer for Question 2, Part B\n",
    "grader.check('hw07_q2b')"
   ]
  },
  {
   "cell_type": "markdown",
   "metadata": {},
   "source": [
    "## Part C: Determining the Keyword (6 pts)\n",
    "\n"
   ]
  },
  {
   "cell_type": "markdown",
   "metadata": {},
   "source": [
    "Now that you know how to determine the length of the keyword, it's time to figure out exactly what the keyword is.\n",
    "\n",
    "**Criteria:**\n",
    "1. The function must be named `get_keyword` exactly\n",
    "2. The function must have exactly 3 input arguments:\n",
    "   * `argument 1` (str): a piece of text\n",
    "   * `argument 2` (int): the likely keyword length\n",
    "   * `LETTERS` (str, optional): The alphabet used in `argument 1`. Should default to `'ABCDEFGHIJKLMNOPQRSTUVWXYZ'`\n",
    "3. The function must return a `str` object that represents the likely keyword used\n",
    "4. The function should use the function `caesar_scorer` to implement chi-squared scoring on each group of characters that `text_split` has created to determine the most likely key used to encipher the group\n",
    "5. The function should take the likely key value from each group, convert it to a character, and create a keyword from the characters.\n",
    "6. A `docstring` should be written for this function\n",
    "\n",
    "The function must use chi-squared scoring to determine the most likely letter for each position in the keyword. The `caesar_scorer` function from an earlier assignment is probably the easiest way to do this (look back at the Week 04 Graded HW for some code / ideas you can reuse with the `caesar_scorer` function, but if you'd like to use another way that's fine as long as it involves chi-squared scoring to determine the characters in the keyword.\n",
    "\n",
    "**Sample Test Cases**:\n",
    "```\n",
    ">>> get_keyword(ciphertext_1, 8)\n",
    "'CHESHIRE'\n",
    "\n",
    ">>> get_keyword(ciphertext_2, 5, 'ABCDEFGHIJKLMNOPQRSTUVWXYZ')\n",
    "'WOMEN'\n",
    "```"
   ]
  },
  {
   "cell_type": "code",
   "execution_count": null,
   "metadata": {},
   "outputs": [],
   "source": []
  },
  {
   "cell_type": "code",
   "execution_count": null,
   "metadata": {},
   "outputs": [],
   "source": [
    "### Running this cell will check your answer for Question 2, Part C\n",
    "grader.check('hw07_q2c')"
   ]
  },
  {
   "cell_type": "markdown",
   "metadata": {},
   "source": [
    "## Part D: Putting it All Together (4 pts)"
   ]
  },
  {
   "cell_type": "markdown",
   "metadata": {},
   "source": [
    "Lastly, now that you know how to get the keyword you should be able to piece everything together and automatically determine the plaintext that corresponds with a Vigenère ciphertext.\n",
    "\n",
    "**Criteria:**\n",
    "1. The function must be named `crack_vigenere` exactly\n",
    "2. The function must have exactly 2 input arguments:\n",
    "   * `argument 1` (str): a piece of ciphertext\n",
    "   * `LETTERS` (str, optional): The alphabet used in `argument 1`. Should default to `'ABCDEFGHIJKLMNOPQRSTUVWXYZ'`\n",
    "3. The function must return a `str` object that represents the likely plaintext\n",
    "4. The function should call `get_keyword` to determine the likely keyword\n",
    "5. The function should use the `vigenere` function to decipher the ciphertext using the calculated keyword\n",
    "6. A `docstring` should be written for this function\n",
    "\n",
    "When complete this function should allow you to take any Vigenère ciphertext (of sufficient length) and automatically determine the message with no input besides the ciphertext.\n",
    "\n",
    "**Sample Test Cases**:\n",
    "```\n",
    ">>> crack_vigenere(ciphertext_1)\n",
    "'alicewasbeginningtogetverytiredofsittingbyhersisteronthebankandofhavingnothingtodoonceortwiceshehadpeepedintothebookhersisterwasreadingbutithadnopicturesorconversationsinitandwhatistheuseofabookthoughtalicewithoutpicturesorconversationssoshewasconsideringinherownmindaswellasshecouldforthehotdaymadeherfeelverysleepyandstupidwhetherthepleasureofmakingadaisychainwouldbeworththetroubleofgettingupandpickingthedaisieswhensuddenlyawhiterabbitwithpinkeyesranclosebyhertherewasnothingsoveryremarkableinthatnordidalicethinkitsoverymuchoutofthewaytoheartherabbitsaytoitselfohdearohdearishallbelatewhenshethoughtitoverafterwardsitoccurredtoherthatsheoughttohavewonderedatthisbutatthetimeitallseemedquitenaturalbutwhentherabbitactuallytookawatchoutofitswaistcoatpocketandlookedatitandthenhurriedonalicestartedtoherfeetforitflashedacrosshermindthatshehadneverbeforeseenarabbitwitheitherawaistcoatpocketorawatchtotakeoutofitandburningwithcuriositysheranacrossthefieldafteritandfortunatelywasjustintimetoseeitpopdownalargerabbitholeunderthehedge'\n",
    "\n",
    ">>> crack_vigenere(ciphertext_2, 'ABCDEFGHIJKLMNOPQRSTUVWXYZ')\n",
    "'margarettheeldestofthefourwassixteenandveryprettybeingplumpandfairwithlargeeyesplentyofsoftbrownhairasweetmouthandwhitehandsofwhichshewasrathervainfifteenyearoldjowasverytallthinandbrownandremindedoneofacoltforsheneverseemedtoknowwhattodowithherlonglimbswhichwereverymuchinherwayshehadadecidedmouthacomicalnoseandsharpgrayeyeswhichappearedtoseeeverythingandwerebyturnsfiercefunnyorthoughtfulherlongthickhairwasheronebeautybutitwasusuallybundledintoanettobeoutofherwayroundshouldershadjobighandsandfeetaflyawaylooktoherclothesandtheuncomfortableappearanceofagirlwhowasrapidlyshootingupintoawomananddidntlikeitelizabethorbethaseveryonecalledherwasarosysmoothhairedbrighteyedgirlofthirteenwithashymanneratimidvoiceandapeacefulexpressionwhichwasseldomdisturbedherfathercalledherlittlemisstranquilityandthenamesuitedherexcellentlyforsheseemedtoliveinahappyworldofherownonlyventuringouttomeetthefewwhomshetrustedandlovedamythoughtheyoungestwasamostimportantpersoninherownopinionatleastaregularsnowmaidenwithblueeyesandyellowhaircurlingonhershoulderspaleandslenderandalwayscarryingherselflikeayoungladymindfulofhermannerswhatthecharactersofthefoursisterswerewewillleavetobefoundout'\n",
    "```"
   ]
  },
  {
   "cell_type": "code",
   "execution_count": null,
   "metadata": {},
   "outputs": [],
   "source": []
  },
  {
   "cell_type": "code",
   "execution_count": null,
   "metadata": {},
   "outputs": [],
   "source": [
    "### Running this cell will check your answer for Question 2, Part D\n",
    "grader.check('hw07_q2d')"
   ]
  },
  {
   "cell_type": "markdown",
   "metadata": {},
   "source": [
    "# Checking Your Work\n",
    "\n",
    "Before submitting your work, you can check that your solutions pass the neccesary tests by running the cell below:"
   ]
  },
  {
   "cell_type": "code",
   "execution_count": null,
   "metadata": {},
   "outputs": [],
   "source": [
    "grader.check_all()"
   ]
  },
  {
   "cell_type": "markdown",
   "metadata": {},
   "source": [
    "Note that the provided tests are just sample tests that the autograder will use to score your homework. If your code meets all the criteria listed in the description for each question, it should pass all the private tests that the autograder runs as well."
   ]
  },
  {
   "cell_type": "markdown",
   "metadata": {},
   "source": [
    "# Submitting Your Work\n",
    "\n",
    "1. Save this notebook using the save icon\n",
    "2. In the File Browser to the left, right click on this file (`spring2020-hw07.ipynb`) and download it to your computer as a `.ipynb` file\n",
    "3. Submit the `spring2020-hw07.ipynb` file to Gradescope via the Canvas Assignment."
   ]
  }
 ],
 "metadata": {
  "kernelspec": {
   "display_name": "Python 3",
   "language": "python",
   "name": "python3"
  },
  "language_info": {
   "codemirror_mode": {
    "name": "ipython",
    "version": 3
   },
   "file_extension": ".py",
   "mimetype": "text/x-python",
   "name": "python",
   "nbconvert_exporter": "python",
   "pygments_lexer": "ipython3",
   "version": "3.7.3"
  }
 },
 "nbformat": 4,
 "nbformat_minor": 4
}
