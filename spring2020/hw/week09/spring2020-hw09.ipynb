{
 "cells": [
  {
   "cell_type": "markdown",
   "metadata": {},
   "source": [
    "# MA/CS 358: Week 09 OPTIONAL Graded Homework - Spring 2020\n",
    "\n",
    "*Please complete this notebook by filling in the code cells as indicated.*"
   ]
  },
  {
   "cell_type": "markdown",
   "metadata": {},
   "source": [
    "Double-click into this cell, type your name, and run the cell to finalize the changes.\n",
    "\n",
    "**Name:** -----"
   ]
  },
  {
   "cell_type": "markdown",
   "metadata": {},
   "source": [
    "## 0. Run The Cell Below Everytime You Log In\n",
    "\n",
    "To get you started, run the cell below to load the autograder and toolkit for this homework assignment. Functions that are included:\n",
    "\n",
    "* `mod_inverse`\n",
    "* `gcd`\n",
    "* `egcd`\n",
    "\n",
    "Remember, you can use the `help` function to see the docstring for each of the provided functions right here in your notebook (e.g. `help(mod_inverse)`)"
   ]
  },
  {
   "cell_type": "code",
   "execution_count": null,
   "metadata": {},
   "outputs": [],
   "source": [
    "import otter\n",
    "grader = otter.Notebook('tests')\n",
    "from hw09_toolkit import *"
   ]
  },
  {
   "cell_type": "markdown",
   "metadata": {},
   "source": [
    "## 1. KidRSA\n",
    "*Recommended Reading:* https://macs358.org/chapters/11/1/kidrsa.html\n",
    "\n",
    "\n",
    "### Part A: Key Generation (4 pts)\n",
    "**Criteria:**\n",
    "1. The function must be named `KidRSA_keygen` exactly\n",
    "2. The function must have exactly 4 input arguments, you can name them however you like:\n",
    "   * `argument 1` (int): the value for $a$\n",
    "   * `argument 2` (int): the value for $b$\n",
    "   * `argument 3` (int): the value for $a'$\n",
    "   * `argument 4` (int): the value for $b'$\n",
    "3. The function must return a `list` object that contains 2 tuples. The first tuple should be the public key and the second tuple should be the private key.\n",
    "\n",
    "**Sample Test Cases**:\n",
    "```\n",
    ">>> KidRSA_keygen(3,7,5,11)\n",
    "[(103, 1169), (227, 1169)]\n",
    "\n",
    ">>> KidRSA_keygen(2,324,100,8)\n",
    "[(64702, 550017), (5500, 550017)]\n",
    "```"
   ]
  },
  {
   "cell_type": "code",
   "execution_count": null,
   "metadata": {},
   "outputs": [],
   "source": []
  },
  {
   "cell_type": "code",
   "execution_count": null,
   "metadata": {},
   "outputs": [],
   "source": [
    "### Running this cell will check your answer for Question 1a\n",
    "grader.check('hw09_q1a')"
   ]
  },
  {
   "cell_type": "markdown",
   "metadata": {},
   "source": [
    "### Part B: Encryption / Decryption (4 pts)\n",
    "**Criteria:**\n",
    "1. The function must be named `KidRSA` exactly\n",
    "2. The function must have exactly 2 input arguments, you can name the first two however you like:\n",
    "   * `argument 1` (int): an integer message you wish to encrypt or decrypt\n",
    "   * `argument 2` (tuple): the key to use for either encryption or decryption\n",
    "3. The function must return an integer\n",
    "4. **Reminder:** The decimal representation of your message, `m`, must be less than the modulus `n` from the key and be relatively prime to `n` (i.e `gcd(m,n) == 1`).\n",
    "   * Your function should check for this condition and return the string `'invalid'` if it does not meet these criteria.\n",
    "\n",
    "**Sample Test Cases**:\n",
    "```\n",
    ">>> KidRSA( 348, (18221, 347273))\n",
    "89994\n",
    "\n",
    ">>> KidRSA( 89994, (9377, 347273))\n",
    "348\n",
    "\n",
    "m > n case\n",
    ">>> KidRSA( 500000, (18221, 347273))\n",
    "'invalid'\n",
    "\n",
    "gcd(m, n) != 1 case\n",
    ">>> KidRSA( 61, (18221, 347273))\n",
    "'invalid'\n",
    "```"
   ]
  },
  {
   "cell_type": "code",
   "execution_count": null,
   "metadata": {},
   "outputs": [],
   "source": []
  },
  {
   "cell_type": "code",
   "execution_count": null,
   "metadata": {},
   "outputs": [],
   "source": [
    "### Running this cell will check your answer for Question 1b\n",
    "grader.check('hw09_q1b')"
   ]
  },
  {
   "cell_type": "markdown",
   "metadata": {},
   "source": [
    "### Part C: Cracking Keys (4 pts)\n",
    "**Criteria:**\n",
    "1. The function must be named `crack_KidRSA` exactly\n",
    "2. The function must have exactly 1 input argument, which you can name however you like:\n",
    "   * `argument 2` (tuple): the public key used for message encryption\n",
    "3. The function must return an a tuple that represents the private key formatted as `(d, n)`\n",
    "4. **Reminder:** You don't want to brute force this! You can use the `mod_inverse` function to help here. Remember that `mod_inverse` returns an empty string `''` if there is no multiplicative inverse found.\n",
    "5. The function should check to ensure that the provided value of `e` has an inverse in mod `n`. If they aren't the function should return the string `invalid`\n",
    "\n",
    "**Sample Test Cases**:\n",
    "```\n",
    ">>> crack_KidRSA( (18221, 347273) )\n",
    "(9377, 347273)\n",
    "\n",
    ">>> crack_KidRSA( (4, 12) )\n",
    "'invalid'\n",
    "```"
   ]
  },
  {
   "cell_type": "code",
   "execution_count": null,
   "metadata": {},
   "outputs": [],
   "source": []
  },
  {
   "cell_type": "code",
   "execution_count": null,
   "metadata": {},
   "outputs": [],
   "source": [
    "### Running this cell will check your answer for Question 1c\n",
    "grader.check('hw09_q1c')"
   ]
  },
  {
   "cell_type": "markdown",
   "metadata": {},
   "source": [
    "## 2. The RSA Cipher\n",
    "*Recommended Reading:* https://macs358.org/chapters/11/3/rsa.html\n",
    "\n",
    "### Part A: Key Generation (4 pts)\n",
    "**Criteria:**\n",
    "1. The function must be named `RSA_keygen` exactly\n",
    "2. The function must have exactly 3 input arguments, you can name the first 2 however you like:\n",
    "   * `argument 1` (int): the value for $p$\n",
    "   * `argument 2` (int): the value for $q$\n",
    "   * `argument 3` (int, optional): the value for $e$. Should default to `e = 65537`\n",
    "3. The function must return a `list` object that contains 2 tuples. The first tuple should be the public key and the second tuple should be the private key.\n",
    "4.  **Reminder:**  $e$ and $\\varphi(n)$ need to be relatively prime. If the selected value of $e$ and computed value of $\\varphi(n)$ are not relatively prime, the function should return the string `'invalid'`\n",
    "\n",
    "**Sample Test Cases**:\n",
    "```\n",
    ">>> RSA_keygen(3, 11, 3)\n",
    "[(3, 33), (7, 33)]\n",
    "\n",
    ">>> RSA_keygen(1787, 3881)\n",
    "[(65537, 6935347), (5655233, 6935347)]\n",
    "\n",
    ">>> RSA_keygen(1787, 3881, e=36)\n",
    "'invalid'\n",
    "```"
   ]
  },
  {
   "cell_type": "code",
   "execution_count": null,
   "metadata": {},
   "outputs": [],
   "source": []
  },
  {
   "cell_type": "code",
   "execution_count": null,
   "metadata": {},
   "outputs": [],
   "source": [
    "### Running this cell will check your answer for Question 2a\n",
    "grader.check('hw09_q2a')"
   ]
  },
  {
   "cell_type": "markdown",
   "metadata": {},
   "source": [
    "### Part B: Encryption / Decryption (4 pts)\n",
    "**Criteria:**\n",
    "1. The function must be named `RSA` exactly\n",
    "2. The function must have exactly 2 input arguments, you can name the first two however you like:\n",
    "   * `argument 1` (int): an integer message you wish to encrypt or decrypt\n",
    "   * `argument 2` (tuple): the key to use for either encryption or decryption\n",
    "3. The function must return an integer\n",
    "4. **Reminder:** The decimal representation of your message, `m`, must be less than the modulus `n` from the key and be relatively prime to `n` (i.e `gcd(m,n) == 1`).\n",
    "   * Your function should check for this condition and return the string `'invalid'` if it does not meet these criteria.\n",
    "\n",
    "**Hint:** You should use the `pow` function instead of the `**` operator so you're using the fast modular exponentiation algorithm. This means that if computing $2^{20}= 1048576$, you would only need $20$ steps instead of $1048576$. The numbers in this example are far too large for Python to efficiently carry out the exponentiation with the `**` operator!\n",
    "\n",
    "**Sample Test Cases**:\n",
    "```\n",
    ">>> RSA( 5, (3,33) )\n",
    "26\n",
    "\n",
    ">>> RSA( 26, (7,33) )\n",
    "5\n",
    "\n",
    ">>> RSA( 234712, (65537, 6935347))\n",
    "2678654\n",
    "\n",
    ">>> RSA( 2678654, (5655233, 6935347))\n",
    "234712\n",
    "\n",
    "m > n case\n",
    ">>> RSA( 26786543243423, (5655233, 6935347))\n",
    "'invalid'\n",
    "```"
   ]
  },
  {
   "cell_type": "code",
   "execution_count": null,
   "metadata": {},
   "outputs": [],
   "source": []
  },
  {
   "cell_type": "code",
   "execution_count": null,
   "metadata": {},
   "outputs": [],
   "source": [
    "### Running this cell will check your answer for Question 2b\n",
    "grader.check('hw09_q2b')"
   ]
  },
  {
   "cell_type": "markdown",
   "metadata": {},
   "source": [
    "# Checking Your Work\n",
    "\n",
    "Before submitting your work, you can check that your solutions pass the neccesary tests by running the cell below:"
   ]
  },
  {
   "cell_type": "code",
   "execution_count": null,
   "metadata": {},
   "outputs": [],
   "source": [
    "grader.check_all()"
   ]
  },
  {
   "cell_type": "markdown",
   "metadata": {},
   "source": [
    "Note that the provided tests are just sample tests that the autograder will use to score your homework. If your code meets all the criteria listed in the description for each question, it should pass all the private tests that the autograder runs as well."
   ]
  },
  {
   "cell_type": "markdown",
   "metadata": {},
   "source": [
    "# Submitting Your Work\n",
    "\n",
    "1. Save this notebook using the save icon\n",
    "2. In the File Browser to the left, right click on this file (`spring2020-hw09.ipynb`) and download it to your computer as a `.ipynb` file\n",
    "3. Submit the `spring2020-hw09.ipynb` file to Gradescope via the Canvas Assignment."
   ]
  }
 ],
 "metadata": {
  "kernelspec": {
   "display_name": "Python 3",
   "language": "python",
   "name": "python3"
  },
  "language_info": {
   "codemirror_mode": {
    "name": "ipython",
    "version": 3
   },
   "file_extension": ".py",
   "mimetype": "text/x-python",
   "name": "python",
   "nbconvert_exporter": "python",
   "pygments_lexer": "ipython3",
   "version": "3.7.3"
  }
 },
 "nbformat": 4,
 "nbformat_minor": 4
}
