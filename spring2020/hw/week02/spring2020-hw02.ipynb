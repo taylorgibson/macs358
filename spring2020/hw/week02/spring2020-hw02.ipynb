{
 "cells": [
  {
   "cell_type": "markdown",
   "metadata": {},
   "source": [
    "# MA/CS 358: Week 02 Graded Homework - Spring 2020\n",
    "\n",
    "## Run the cell below every time you log in!"
   ]
  },
  {
   "cell_type": "code",
   "execution_count": null,
   "metadata": {},
   "outputs": [],
   "source": [
    "import otter\n",
    "grader = otter.Notebook('tests')"
   ]
  },
  {
   "cell_type": "markdown",
   "metadata": {},
   "source": [
    "The cell above loads the autograder which runs the tests for each problem. If you don't run it each time you load this notebook, you'll get error messages when running the tests in each question."
   ]
  },
  {
   "cell_type": "markdown",
   "metadata": {},
   "source": [
    "__Deadline:__\n",
    "\n",
    "> This assignment is due Friday, March 13 at 5:00 P.M. Late work will receive a 10% deduction for up to 24 hours late and a 20% deduction for between 24 and 48 hours late. No work will be accepted after 48 hours after the deadline. You should start early so that you have time to get help if you're stuck. Office hours are held Monday-Friday via Zoom, and help can also be found in the Slack workspace.\n",
    "\n",
    "__Academic Honesty:__\n",
    "\n",
    "> Discussing problems with the instructors is encouraged. You should __not__ discuss the problems or solutions with other students in the course."
   ]
  },
  {
   "cell_type": "markdown",
   "metadata": {},
   "source": [
    "## Question 1: Writing a Function with a Loop (6 pts)\n",
    "\n",
    "A *triangular number* is a number obtained by adding all positive integers less than or equal to a given positive integer. For example:\n",
    "  * $1$ \n",
    "  * $3 = 1 + 2$\n",
    "  * $6 = 1 + 2 + 3$\n",
    "  * $10 = 1 + 2 + 3 + 4$\n",
    "\n",
    "are all triangular numbers.\n",
    "\n",
    "In the code cell below write a function named `triangular_number` that produces triangular numbers.\n",
    "\n",
    "**Criteria:**\n",
    "\n",
    "1.  The function must be named `triangular_number` exactly.\n",
    "\n",
    "\n",
    "2.  The function must have only 1 input argurment:\n",
    "  * argument 1: an integer\n",
    "  \n",
    "  \n",
    "3.  The function must return an integer:\n",
    "  * The returned integer should represent the triangular number produced by adding all positive integers less than or equal to a given positive integer.\n",
    "  \n",
    "  \n",
    "4. The function only needs to work for input integers that are equal to or greater than 0\n",
    "\n",
    "\n",
    "5. A `for` loop or `while` loop must be used to generate the returned integer\n",
    "\n",
    "\n",
    "6. The function must have exactly `1` return statement.\n",
    "  \n",
    "**Sample Test Cases**\n",
    "\n",
    "```\n",
    "triangular_number(1)\n",
    "1\n",
    "\n",
    "triangular_number(3)\n",
    "6\n",
    "\n",
    "triangular_number(10)\n",
    "55\n",
    "```\n",
    "\n",
    "*your function goes in the cell below*"
   ]
  },
  {
   "cell_type": "code",
   "execution_count": null,
   "metadata": {},
   "outputs": [],
   "source": []
  },
  {
   "cell_type": "code",
   "execution_count": null,
   "metadata": {},
   "outputs": [],
   "source": [
    "### Running this cell will check your answer for Question 1\n",
    "grader.check('q1')"
   ]
  },
  {
   "cell_type": "markdown",
   "metadata": {},
   "source": [
    "## Question 2: Conditional Branches (6 pts)\n",
    "\n",
    "In the code cell below, write a function named `integer_compare()` that compares two integer values.\n",
    "\n",
    "**Criteria:**\n",
    "\n",
    "1. The function must be named `integer_compare` exactly.\n",
    "\n",
    "\n",
    "2. The function must have two input arguments:\n",
    "  * argument 1: an integer named `x`\n",
    "  * argument 2: an integer named `y`\n",
    "\n",
    "\n",
    "3. The function must return a string object:\n",
    "  * if $x \\gt y$, then the string should be *exactly* `'x is larger than y'`\n",
    "  * if $x \\lt y$, then the string should be *exactly* `'y is larger than x'`\n",
    "  * if $x = y$, then the strong should be *exactly* `'x and y are equal'`\n",
    "\n",
    "\n",
    "4. The function must use an `if`, an `elif`, and an `else` statement.\n",
    "\n",
    "\n",
    "5. The function must have at least `1` return statement.\n",
    "\n",
    "\n",
    "**Sample Test Cases**\n",
    "```\n",
    "integer_compare(3, 7)\n",
    "y is larger than x\n",
    "\n",
    "integer_compare(5, 1)\n",
    "x is larger than y\n",
    "\n",
    "integer_compare(4, 4)\n",
    "x and y are equal\n",
    "```\n",
    "\n",
    "*your function goes in the cell below*"
   ]
  },
  {
   "cell_type": "code",
   "execution_count": null,
   "metadata": {},
   "outputs": [],
   "source": []
  },
  {
   "cell_type": "code",
   "execution_count": null,
   "metadata": {},
   "outputs": [],
   "source": [
    "### Running this cell will check your answer for Question 2\n",
    "grader.check('q2')"
   ]
  },
  {
   "cell_type": "markdown",
   "metadata": {},
   "source": [
    "## Question 3: Calculating Modular Multiplicative Inverses (8 pts)\n",
    "\n",
    "In the code cell below, write a function named `calculate_mkey()` that calculates a modular multiplicative inverse for a key in a provided modulus.\n",
    "\n",
    "**Criteria:**\n",
    "\n",
    "1. The function must be named `calculate_mkey` exactly.\n",
    "\n",
    "\n",
    "2. The function must have two input arguments. Criteria for your inputs:\n",
    "  * argument 1: an integer that represents a key for a multiplicative cipher\n",
    "  * argument 2 (default argument): an integer that represents that modulus that you are working in. The default value should be `26`.\n",
    "\n",
    "\n",
    "3. The function should return:\n",
    "  * an integer that represents the modular multiplicative inverse for the key in the given modulus\n",
    "  * the integer `-1` if there is no modular multiplicative inverse in the given modulus\n",
    " \n",
    " \n",
    "4. Your code must use at least one loop. You can use either a `for` or `while` loop.\n",
    "\n",
    "5. Your function must have a `docstring` that meets the criteria met in the Functions section on www.macs358.org\n",
    "\n",
    "\n",
    "\n",
    "**Sample Test Cases:**\n",
    "```\n",
    "calculate_mkey(5)\n",
    "21\n",
    "\n",
    "calculate_mkey(7, 13)\n",
    "2\n",
    "\n",
    "calculate_mkey(6, 26)\n",
    "-1\n",
    "```\n",
    "\n",
    "*your function goes in the cell below*"
   ]
  },
  {
   "cell_type": "code",
   "execution_count": null,
   "metadata": {},
   "outputs": [],
   "source": []
  },
  {
   "cell_type": "code",
   "execution_count": null,
   "metadata": {},
   "outputs": [],
   "source": [
    "### Running this cell will check your answer for Question 3\n",
    "grader.check('q3')"
   ]
  },
  {
   "cell_type": "markdown",
   "metadata": {},
   "source": [
    "# Checking Your Work\n",
    "\n",
    "Before submitting your work, you can check that your solutions pass the neccesary tests by running the cell below:"
   ]
  },
  {
   "cell_type": "code",
   "execution_count": null,
   "metadata": {},
   "outputs": [],
   "source": [
    "grader.check_all()"
   ]
  },
  {
   "cell_type": "markdown",
   "metadata": {},
   "source": [
    "Note that the provided tests are just sample tests that the autograder will use to score your homework. If your code meets all the criteria listed in the description for each question, it should pass all the private tests that the autograder runs as well."
   ]
  },
  {
   "cell_type": "markdown",
   "metadata": {},
   "source": [
    "# Submitting Your Work\n",
    "\n",
    "1. Save this notebook\n",
    "2. In the File Browser to the left, right click on this file and download it to your computer\n",
    "3. Log into [GradeScope](https://www.gradescope.com)\n",
    "4. Upload the notebook file to Week 02 Graded HW assignemnt"
   ]
  }
 ],
 "metadata": {
  "kernelspec": {
   "display_name": "Python 3",
   "language": "python",
   "name": "python3"
  },
  "language_info": {
   "codemirror_mode": {
    "name": "ipython",
    "version": 3
   },
   "file_extension": ".py",
   "mimetype": "text/x-python",
   "name": "python",
   "nbconvert_exporter": "python",
   "pygments_lexer": "ipython3",
   "version": "3.7.3"
  }
 },
 "nbformat": 4,
 "nbformat_minor": 4
}
