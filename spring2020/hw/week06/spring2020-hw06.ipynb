{
 "cells": [
  {
   "cell_type": "markdown",
   "metadata": {},
   "source": [
    "# MA/CS 358: Week 06 Graded Homework - Spring 2020\n",
    "\n",
    "*Please complete this notebook by filling in the code cells as indicated.*"
   ]
  },
  {
   "cell_type": "markdown",
   "metadata": {},
   "source": [
    "Double-click into this cell, type your name, and run the cell to finalize the changes.\n",
    "\n",
    "**Name:** -----"
   ]
  },
  {
   "cell_type": "markdown",
   "metadata": {},
   "source": [
    "## 0. Run The Cell Below Everytime You Log In\n",
    "\n",
    "To get you started, run the cell below to load the autograder and toolkit for this homework assignment. Functions that are included:\n",
    "* `text_clean`\n",
    "* `text_block`\n",
    "* `tabula_recta`\n",
    "* `char_to_int`\n",
    "* `int_to_char`\n",
    "\n",
    "You should not add any functions to the toolkit, as they will not be carried over to Gradescope for grading."
   ]
  },
  {
   "cell_type": "code",
   "execution_count": null,
   "metadata": {},
   "outputs": [],
   "source": [
    "import otter\n",
    "grader = otter.Notebook('tests')\n",
    "from hw06_toolkit import *"
   ]
  },
  {
   "cell_type": "markdown",
   "metadata": {},
   "source": [
    "## 1. Running Key Generators\n",
    "\n",
    "For the Trithemius and Vigenere ciphers, we have the luxury of being able to completely create the running key before we encipher or decipher a message. This problem will have you generate those running keys, which we can then use with the `tabula_recta` function to encipher and decipher our messages.\n",
    "\n",
    "### Part A: Trithemius Running Key (4 pts)\n",
    "\n",
    "In the cell below write a function that will take in a text and generate the correct Trithemius running key based on a provided offset and step value.\n",
    "\n",
    "**Criteria:**\n",
    "1. The function must be named `trithemius_keygen` exactly\n",
    "2. The function must have exactly 4 input arguments:\n",
    "   * `argument 1` (str): a passage of either plaintext or ciphertext\n",
    "   * `argument 2` (int): an integer value that represents the offset at which index in LETTERS the running key should begin\n",
    "   * `argument 3` (int): an integer value that represents the step size the running key should use\n",
    "   * `LETTERS` (str, optional): The alphabet used in `argument 1`. Should default to `'ABCDEFGHIJKLMNOPQRSTUVWXYZ'`\n",
    "3. The function must return a `str` object that represents the running key\n",
    "4. A `docstring` should be written for this function\n",
    "\n",
    "**Sample Test Cases**:\n",
    "```\n",
    ">>> trithemius_keygen('HELLO', 3, 2)\n",
    "'DFHJL'\n",
    "\n",
    ">>> trithemius_keygen('FHERS XS', 24, 25)\n",
    "'YXWVUTS'\n",
    "```"
   ]
  },
  {
   "cell_type": "code",
   "execution_count": null,
   "metadata": {},
   "outputs": [],
   "source": []
  },
  {
   "cell_type": "code",
   "execution_count": null,
   "metadata": {},
   "outputs": [],
   "source": [
    "### Running this cell will check your answer for Question 1, Part A\n",
    "grader.check('hw06_q1a')"
   ]
  },
  {
   "cell_type": "markdown",
   "metadata": {},
   "source": [
    "### Part B: Vigenère Running Key (4 pts)\n",
    "\n",
    "In the cell below write a function that will take in a text and generate the correct Vigenère running key based on a provided keyword.\n",
    "\n",
    "**Criteria:**\n",
    "1. The function must be named `vigenere _keygen` exactly\n",
    "2. The function must have exactly 3 input arguments:\n",
    "   * `argument 1` (str): a passage of either plaintext or ciphertext\n",
    "   * `argument 2` (str): a string object that represents the keyword\n",
    "   * `LETTERS` (str, optional): The alphabet used in `argument 1`. Should default to `'ABCDEFGHIJKLMNOPQRSTUVWXYZ'`\n",
    "3. The function must return a `str` object that represents the running key\n",
    "4. A `docstring` should be written for this function\n",
    "\n",
    "**Sample Test Cases**:\n",
    "```\n",
    ">>> vigenere_keygen('Hello World', 'test')\n",
    "'TESTTESTTE'\n",
    "\n",
    ">>> vigenere_keygen('ERFEW WEFES JX', 'jupyter')\n",
    "'JUPYTERJUPYT'\n",
    "```"
   ]
  },
  {
   "cell_type": "code",
   "execution_count": null,
   "metadata": {},
   "outputs": [],
   "source": []
  },
  {
   "cell_type": "code",
   "execution_count": null,
   "metadata": {},
   "outputs": [],
   "source": [
    "### Running this cell will check your answer for Question 1, Part B\n",
    "grader.check('hw06_q1b')"
   ]
  },
  {
   "cell_type": "markdown",
   "metadata": {},
   "source": [
    "## 2. Encrypting/Decryption Functions\n",
    "\n",
    "In this question you'll write functions that use your key generator functions from question 1 and the `tabula_recta` function to encrypt and decrypt messages.\n",
    "\n",
    "### Part A: `trithemius` Function (4 pts)\n",
    "Write a function that implements the Trithemius Cipher to encipher and decipher messages.\n",
    "\n",
    "**Criteria**:\n",
    "1. The function must be named `trithemius` exactly\n",
    "2. The function must have exactly 5 input arguments:\n",
    "   * `argument 1` (str): a passage of either plaintext or ciphertext\n",
    "   * `argument 2` (int): an integer value that represents the offset at which index in LETTERS the running key should begin\n",
    "   * `argument 3` (int): an integer value that represents the step size the running key should use\n",
    "   * `encipher` (bool, optional): a boolean object that determines if the function enciphers (True) or deciphers (False) `argument 1`. Should default to `True`\n",
    "   * `LETTERS` (str, optional): The alphabet used in `argument 1`. Should default to `'ABCDEFGHIJKLMNOPQRSTUVWXYZ'`\n",
    "3. The function must return a `str` object that represents the encrypted/decrypted text.\n",
    "4. A `docstring` should be written for this function\n",
    "\n",
    "**Sample Test Cases**:\n",
    "```\n",
    ">>> trithemius('donotpressthisbutton', 2, 4)\n",
    "'FUXCL LRIAE JBGUH EHLKN'\n",
    "\n",
    ">>> trithemius('NWTSV PPAMK JVUCJ AXVOL', 10, 24, False)\n",
    "'donotpressthisbutton'\n",
    "```"
   ]
  },
  {
   "cell_type": "code",
   "execution_count": null,
   "metadata": {},
   "outputs": [],
   "source": []
  },
  {
   "cell_type": "code",
   "execution_count": null,
   "metadata": {},
   "outputs": [],
   "source": [
    "### Running this cell will check your answer for Question 2, Part A\n",
    "grader.check('hw06_q2a')"
   ]
  },
  {
   "cell_type": "markdown",
   "metadata": {},
   "source": [
    "### Part B: `vigenere` Function (4 pts)\n",
    "\n",
    "Write a function that implements the Vigenere Cipher to encipher and decipher messages.\n",
    "\n",
    "**Criteria**:\n",
    "1. The function must be named `vigenere` exactly\n",
    "2. The function must have exactly 4 input arguments:\n",
    "   * `argument 1` (str): a passage of either plaintext or ciphertext\n",
    "   * `argument 2` (int): a string object that represents the keyword\n",
    "   * `encipher` (bool, optional): a boolean object that determines if the function enciphers (True) or deciphers (False) `argument 1`. Should default to `True`\n",
    "   * `LETTERS` (str, optional): The alphabet used in `argument 1`. Should default to `'ABCDEFGHIJKLMNOPQRSTUVWXYZ'`\n",
    "3. The function must return a `str` object that represents the encrypted/decrypted text.\n",
    "4. A `docstring` should be written for this function\n",
    "\n",
    "**Sample Test Cases**:\n",
    "```\n",
    ">>> vigenere('onaplaneaplaneisdue', 'hospital')\n",
    "'VBSET TNPHD DPVXI DKIW'\n",
    "\n",
    ">>> vigenere('DAGAZ MTLZT GRTIC SVBCS EO', 'vigenere', False)\n",
    "'isawmichelangeloatwork'\n",
    "```"
   ]
  },
  {
   "cell_type": "code",
   "execution_count": null,
   "metadata": {},
   "outputs": [],
   "source": []
  },
  {
   "cell_type": "code",
   "execution_count": null,
   "metadata": {},
   "outputs": [],
   "source": [
    "### Running this cell will check your answer for Question 2, Part B\n",
    "grader.check('hw06_q2b')"
   ]
  },
  {
   "cell_type": "markdown",
   "metadata": {},
   "source": [
    "## 3. The Autokey Cipher (4 pts)\n",
    "\n",
    "Since the autokey cipher does not allow you to compute the running key from the start (at least not when decrypting) this function will need to be a bit different than the others you've already written in this assignment. It should still use the `tabula_recta` function, however you will need to think carefully about altering the running key after each letter you encrypt or decrypt to ensure that it has sufficient letters to finish out the message.\n",
    "\n",
    "**Criteria**:\n",
    "1. The function must be named `autokey` exactly\n",
    "2. The function must have exactly 4 input arguments:\n",
    "   * `argument 1` (str): a passage of either plaintext or ciphertext\n",
    "   * `argument 2` (int): a string object that represents the primer\n",
    "   * `encipher` (bool, optional): a boolean object that determines if the function enciphers (True) or deciphers (False) `argument 1`. Should default to `True`\n",
    "   * `LETTERS` (str, optional): The alphabet used in `argument 1`. Should default to `'ABCDEFGHIJKLMNOPQRSTUVWXYZ'`\n",
    "3. The function must return a `str` object that represents the encrypted/decrypted text.\n",
    "4. A `docstring` should be written for this function\n",
    "\n",
    "**Sample Test Cases**\n",
    "```\n",
    ">>> autokey('acceptthegreaterchallenge', 'UNICORN')\n",
    "'UPKGD KGHGI VTTML VIYEL EIEIL'\n",
    "\n",
    ">>> autokey('UPKGD KGHGI VTTML VIYEL EIEIL', 'unicorn', False)\n",
    "'acceptthegreaterchallenge'\n",
    "```"
   ]
  },
  {
   "cell_type": "code",
   "execution_count": null,
   "metadata": {},
   "outputs": [],
   "source": []
  },
  {
   "cell_type": "code",
   "execution_count": null,
   "metadata": {},
   "outputs": [],
   "source": [
    "### Running this cell will check your answer for Question 3\n",
    "grader.check('hw06_q3')"
   ]
  },
  {
   "cell_type": "markdown",
   "metadata": {},
   "source": [
    "# Checking Your Work\n",
    "\n",
    "Before submitting your work, you can check that your solutions pass the neccesary tests by running the cell below:"
   ]
  },
  {
   "cell_type": "code",
   "execution_count": null,
   "metadata": {},
   "outputs": [],
   "source": [
    "grader.check_all()"
   ]
  },
  {
   "cell_type": "markdown",
   "metadata": {},
   "source": [
    "Note that the provided tests are just sample tests that the autograder will use to score your homework. If your code meets all the criteria listed in the description for each question, it should pass all the private tests that the autograder runs as well."
   ]
  },
  {
   "cell_type": "markdown",
   "metadata": {},
   "source": [
    "# Submitting Your Work\n",
    "\n",
    "1. Save this notebook using the save icon\n",
    "2. In the File Browser to the left, right click on this file (`spring2020-hw06.ipynb`) and download it to your computer as a `.ipynb` file\n",
    "3. Submit the `spring2020-hw06.ipynb` file to Gradescope via the Canvas Assignment."
   ]
  }
 ],
 "metadata": {
  "kernelspec": {
   "display_name": "Python 3",
   "language": "python",
   "name": "python3"
  },
  "language_info": {
   "codemirror_mode": {
    "name": "ipython",
    "version": 3
   },
   "file_extension": ".py",
   "mimetype": "text/x-python",
   "name": "python",
   "nbconvert_exporter": "python",
   "pygments_lexer": "ipython3",
   "version": "3.7.3"
  }
 },
 "nbformat": 4,
 "nbformat_minor": 4
}
