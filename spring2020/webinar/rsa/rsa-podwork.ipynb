{
 "cells": [
  {
   "cell_type": "markdown",
   "metadata": {},
   "source": [
    "# RSA Groupwork Activity\n",
    "\n",
    "Answer the following questions. For each problem you can use a computational tool (Python, TI-84, Wolfram Alpha, etc) to aide in the needed calculations.\n",
    "\n",
    "## 0. Load the Toolkit\n",
    "Run the cell below to load the following functions:\n",
    "* `text_to_integer`\n",
    "* `integer_to_text`\n",
    "* `gcd`\n",
    "* `mod_inverse`"
   ]
  },
  {
   "cell_type": "code",
   "execution_count": 1,
   "metadata": {},
   "outputs": [],
   "source": [
    "from rsa_toolkit import *"
   ]
  },
  {
   "cell_type": "markdown",
   "metadata": {},
   "source": [
    "Don't forget, you can use the `help` function to see the documentation string for each imported function. For example"
   ]
  },
  {
   "cell_type": "code",
   "execution_count": 2,
   "metadata": {},
   "outputs": [
    {
     "name": "stdout",
     "output_type": "stream",
     "text": [
      "Help on function text_to_integer in module rsa_toolkit:\n",
      "\n",
      "text_to_integer(text)\n",
      "    Arguments:\n",
      "      text (str): a string containing base64 characters\n",
      "    \n",
      "    Returns:\n",
      "      (int): an integer representation of text\n",
      "\n"
     ]
    }
   ],
   "source": [
    "help( text_to_integer )"
   ]
  },
  {
   "cell_type": "markdown",
   "metadata": {},
   "source": [
    "## 1. Generate a public / private key pair using the RSA algorithm\n",
    "\n",
    "Choose and/or calculate the following values\n",
    "\n",
    "|  Secret Information | Public Information | \n",
    "| ------------------- |--------------------|\n",
    "| $p =$ prime number  | $n = p \\cdot q$    |\n",
    "| $q =$ prime number  | $e = $ your choice |\n",
    "| $\\varphi(n) = (p-1)(q-1)$     |                    |\n",
    "| $d = $ multiplicative inverse of $e$ in modulus $\\varphi(n)$             |                    |\n",
    "| private key: $\\left(e,n\\right)$       | public key: $\\left(d,n\\right)$       |\n",
    "\n",
    "and store them to the variables below. See below for additional details."
   ]
  },
  {
   "cell_type": "code",
   "execution_count": null,
   "metadata": {},
   "outputs": [],
   "source": [
    "# Replace the ... with integers\n",
    "p = ...\n",
    "q = ...\n",
    "phi = ...\n",
    "d = ...\n",
    "n = ...\n",
    "e = ..."
   ]
  },
  {
   "cell_type": "markdown",
   "metadata": {},
   "source": [
    "You should choose relatively large prime numbers for $p$ and $q$. The larger the values, the longer the messages that you can receive. If you don't know any, feel free to Google some! I would suggest integers that are at least 6 digits long. Make sure you get these right, because everything else after hinges on these values being correct.\n",
    "\n",
    "Don't forget, you can use `mod_inverse` function to help you quickly compute the value of `d`, or, you can do this by hand using the Extended Euclidean Algorithm, or, you can ask Wolfram Alpha. Many choices, choose the one that's best for you!"
   ]
  },
  {
   "cell_type": "markdown",
   "metadata": {},
   "source": [
    "Before proceeding, verify that $e$ and $\\varphi(n)$ are relatively prime. That means their gcd should be 1."
   ]
  },
  {
   "cell_type": "code",
   "execution_count": null,
   "metadata": {},
   "outputs": [],
   "source": [
    "# This statement should print True if you're good to continue\n",
    "print( gcd(e, phi ) == 1 )"
   ]
  },
  {
   "cell_type": "markdown",
   "metadata": {},
   "source": [
    "If you received a `False` when running the previous cell, check all your calculations and choose a new value for $e$ that doesn't share any factors with $\\varphi(n)$. You can use Wolfram Alpha to find all the factors of $\\varphi(n)$ to help you make a better choice if needed. When in doubt, $65537$ is a good one!"
   ]
  },
  {
   "cell_type": "markdown",
   "metadata": {},
   "source": [
    "## 2. Exchange Public Keys\n",
    "Exchange public keys with someone in your group. Record their information below:"
   ]
  },
  {
   "cell_type": "code",
   "execution_count": null,
   "metadata": {},
   "outputs": [],
   "source": [
    "# Replace the ... with integers\n",
    "groupmate_e = ...\n",
    "groupmate_n = ..."
   ]
  },
  {
   "cell_type": "markdown",
   "metadata": {},
   "source": [
    "## 3. Choose a Plaintext Message\n",
    "Choose a short message and store it to the string `plaintext` and use the provided `text_to_integer` function to convert it to a decimal. Your message should only contain base64 characters (uppercase and lowercase letters, and integers)."
   ]
  },
  {
   "cell_type": "code",
   "execution_count": null,
   "metadata": {},
   "outputs": [],
   "source": [
    "# Replace the ... with a string\n",
    "plaintext = ...\n",
    "plaintext_integer = text_to_integer(plaintext)\n",
    "print( plaintext_integer )"
   ]
  },
  {
   "cell_type": "markdown",
   "metadata": {},
   "source": [
    "Before proceeding, make sure the integer representation of your messages is less than your groupmates value for $n$. If it’s not, choose a shorter message and try again."
   ]
  },
  {
   "cell_type": "code",
   "execution_count": null,
   "metadata": {},
   "outputs": [],
   "source": [
    "# This statement should print True if you're good to continue\n",
    "print( plaintext_integer < groupmate_n )"
   ]
  },
  {
   "cell_type": "markdown",
   "metadata": {},
   "source": [
    "## 4. Encrypt the Message\n",
    "\n",
    "\n",
    "The RSA cipher encrypts a plaintext message, $m$, to get a ciphertext message, $c$ as follows:\n",
    "$c = m^e$\n",
    "\n",
    "Encrypt your message using the plaintext (as an integer) and a podmates public key. You should use the `pow` function in Python to do this!\n",
    "\n",
    "`pow(5, 10, 17)` is equivalent to $5^{10} \\pmod{17}$ and `(5 ** 10) % 17`, only much more efficent for Python to calculate."
   ]
  },
  {
   "cell_type": "code",
   "execution_count": null,
   "metadata": {},
   "outputs": [],
   "source": [
    "c = pow( plaintext_integer, groupmate_e, groupmate_n )\n",
    "print( c )"
   ]
  },
  {
   "cell_type": "markdown",
   "metadata": {},
   "source": [
    "## 5. Exchange Ciphertext Messages\n",
    "\n",
    "Exchange the integer values computed in the last step with your groupmate whose key you used. You shouldn't be able to decipher this message, but they can with their private key!"
   ]
  },
  {
   "cell_type": "code",
   "execution_count": null,
   "metadata": {},
   "outputs": [],
   "source": [
    "ciphertext_integer = ..."
   ]
  },
  {
   "cell_type": "markdown",
   "metadata": {},
   "source": [
    "## 6. Decrypt the Message\n",
    "\n",
    "The RSA cipher decrypts a ciphertext message, $d$, to get a plaintext message, $m$ as follows:\n",
    "$m = c^d$\n",
    "\n",
    "Encrypt your message using the ciphertext (as an integer) and your private key. You should use the `pow` function in Python to do this!"
   ]
  },
  {
   "cell_type": "code",
   "execution_count": null,
   "metadata": {},
   "outputs": [],
   "source": [
    "m = pow( ciphertext_integer, d, n)\n",
    "print( m )"
   ]
  },
  {
   "cell_type": "markdown",
   "metadata": {},
   "source": [
    "## 7. Reveal the Message\n",
    "\n",
    "Convert the integer representation of the plaintext back into text using the `integer_to_text` function"
   ]
  },
  {
   "cell_type": "code",
   "execution_count": null,
   "metadata": {},
   "outputs": [],
   "source": [
    "print( integer_to_text(m) )"
   ]
  },
  {
   "cell_type": "markdown",
   "metadata": {},
   "source": [
    "Verify that the message is correct!"
   ]
  }
 ],
 "metadata": {
  "kernelspec": {
   "display_name": "Python 3",
   "language": "python",
   "name": "python3"
  },
  "language_info": {
   "codemirror_mode": {
    "name": "ipython",
    "version": 3
   },
   "file_extension": ".py",
   "mimetype": "text/x-python",
   "name": "python",
   "nbconvert_exporter": "python",
   "pygments_lexer": "ipython3",
   "version": "3.7.3"
  }
 },
 "nbformat": 4,
 "nbformat_minor": 4
}
