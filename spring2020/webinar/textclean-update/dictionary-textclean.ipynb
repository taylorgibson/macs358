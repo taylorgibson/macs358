{
 "cells": [
  {
   "cell_type": "markdown",
   "metadata": {},
   "source": [
    "# 4/1/2020 Cryptography Webinar\n",
    "\n",
    "Tonight you will work in your breakout rooms to update the `text_clean` function that we've written a few weeks ago and have been using in our functions ever since.\n",
    "\n",
    "The goal is to modify the function so it can clean messages that contain special characters in a particular way. We'd like the message `Meet me at 9 o'clock` to be cleaned as `MEETMEATNINEOCLOCK` instead of the usual `MEETMEATOCLOCK`. When you're done with this assignment, our function will do that!"
   ]
  },
  {
   "cell_type": "markdown",
   "metadata": {},
   "source": [
    "## 0. Load the Autograder"
   ]
  },
  {
   "cell_type": "code",
   "execution_count": null,
   "metadata": {},
   "outputs": [],
   "source": [
    "import otter\n",
    "grader = otter.Notebook('tests')"
   ]
  },
  {
   "cell_type": "markdown",
   "metadata": {},
   "source": [
    "## 1. Create a Replacement Dictionary\n",
    "\n",
    "We'll use a dictionary to store all the characters we wish to replace in a special way and the string we'd like to replace them with. The table below indicates which characters should be included in your replacement dictionary:\n",
    "\n",
    "| Character | Replacement |\n",
    "|:---------:|:-----------:|\n",
    "| `0` | `ZERO` |\n",
    "| `1` | `ONE` |\n",
    "| `2` | `TWO` |\n",
    "| `3` | `THREE` |\n",
    "| `4` | `FOUR` |\n",
    "| `5` | `FIVE` |\n",
    "| `6` | `SIX` |\n",
    "| `7` | `SEVEN` |\n",
    "| `8` | `EIGHT`|\n",
    "| `9` | `NINE` |\n",
    "| `.` | `PERIOD` |\n",
    "| `,` | `COMMA` |\n",
    "| `!` | `EXCLAMATIONPOINT` |\n",
    "| `?` | `QUESTIONMARK` |\n",
    "\n",
    "In the cell below create the dictionary that contains characters as keys and their replacements as associated values. Assign this dictionary to the variable `my_replacements`."
   ]
  },
  {
   "cell_type": "code",
   "execution_count": null,
   "metadata": {},
   "outputs": [],
   "source": [
    "my_replacements = ..."
   ]
  },
  {
   "cell_type": "markdown",
   "metadata": {},
   "source": [
    "Run the cell below to make sure your dictionary has all the required elements."
   ]
  },
  {
   "cell_type": "code",
   "execution_count": null,
   "metadata": {},
   "outputs": [],
   "source": [
    "grader.check('q1')"
   ]
  },
  {
   "cell_type": "markdown",
   "metadata": {},
   "source": [
    "## 2. Modify the `text_clean` Function\n",
    "\n",
    "The existing `text_clean` function is included below as a starting point. Modify the code to meet the following criteria.\n",
    "\n",
    "__Criteria:__\n",
    "\n",
    "1. The function must be named `text_clean` exactly.\n",
    "2. The function must have exactly 3 arguments:\n",
    "   * text (str): a piece of text for cleaning\n",
    "   * LETTERS (str, optional): The alphabet that the ciphertext should contain. Default should be `'ABCDEFGHIJKLMNOPQRSTUVWXYZ'`\n",
    "   * special (dict, optional): a dictionary that has single character strings that are not in LETTERS as the keys, and a replacement string that contains only characters in `LETTERS` as the value. Default value should be an empty dictionary.\n",
    "3. The function should check to see if the dictionary `special` contains any keys and values.\n",
    "   * If `special` contains keys and values, replace the characters corresponding replacement value.\n",
    "   * If `special` is empty, `text_clean` should run as it has in the past.\n",
    "4. The function must return a string that contains only characters in the argument `LETTERS`."
   ]
  },
  {
   "cell_type": "code",
   "execution_count": null,
   "metadata": {},
   "outputs": [],
   "source": [
    "def text_clean( text, LETTERS = 'ABCDEFGHIJKLMNOPQRSTUVWXYZ'):\n",
    "    \"\"\"\n",
    "    Arguments:\n",
    "        text (str): a piece of text for cleaning\n",
    "        LETTERS (str, optional): The alphabet to be used.\n",
    "    Returns:\n",
    "        (str): text with only the characters also found in LETTERS\n",
    "               lower-case letters in text will be made upper-case  \n",
    "    \"\"\"\n",
    "    \n",
    "    cleaned_text = ''\n",
    "    \n",
    "    for character in text:\n",
    "        if character.upper() in LETTERS:\n",
    "            cleaned_text += character.upper()\n",
    "    \n",
    "    return cleaned_text"
   ]
  },
  {
   "cell_type": "markdown",
   "metadata": {},
   "source": [
    "**Sample Test Cases:**\n",
    "\n",
    "```\n",
    ">>> text_clean( 'Meet me at 9 oclock', LETTERS = 'ABCDEFGHIJKLMNOPQRSTUVWXYZ', special = my_replacements )\n",
    "'TESTINGONETWOTHREE'\n",
    "\n",
    ">>> text_clean( 'Testing Testing 123. Is this thing on?', LETTERS = 'ABCDEFGHIJKLMNOPQRSTUVWXYZ', special = my_replacements )\n",
    "'TESTINGTESTINGONETWOTHREEPERIODISTHISTHINGONQUESTIONMARK'\n",
    "\n",
    ">>> text_clean( 'Frankly my dear, I dont give a hoot!', LETTERS = 'ABCDEFGHIJKLMNOPQRSTUVWXYZ', special = my_replacements )\n",
    "'FRANKLYMYDEARCOMMAIDONTGIVEAHOOTEXCLAMATIONPOINT'\n",
    "```"
   ]
  },
  {
   "cell_type": "code",
   "execution_count": null,
   "metadata": {},
   "outputs": [],
   "source": [
    "grader.check('q2')"
   ]
  }
 ],
 "metadata": {
  "kernelspec": {
   "display_name": "Python 3",
   "language": "python",
   "name": "python3"
  },
  "language_info": {
   "codemirror_mode": {
    "name": "ipython",
    "version": 3
   },
   "file_extension": ".py",
   "mimetype": "text/x-python",
   "name": "python",
   "nbconvert_exporter": "python",
   "pygments_lexer": "ipython3",
   "version": "3.7.3"
  }
 },
 "nbformat": 4,
 "nbformat_minor": 4
}
