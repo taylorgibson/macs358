{
 "cells": [
  {
   "cell_type": "markdown",
   "metadata": {},
   "source": [
    "# MA/CS 358: Week 01 Graded Homework\n",
    "\n",
    "Please complete this notebook by filling in the code cells as indicated."
   ]
  },
  {
   "cell_type": "markdown",
   "metadata": {},
   "source": [
    "## 1. String Operations\n",
    "*Recommended Reading: Chapter 3.2.4*\n",
    "\n",
    "Let's start by creating a string variable, `q1plaintext` that contains a message we'd like to work with during this homework assignment."
   ]
  },
  {
   "cell_type": "code",
   "execution_count": 37,
   "metadata": {},
   "outputs": [],
   "source": [
    "# Do not modify this cell, just run it!\n",
    "q1plaintext = 'Logic is the foundation of the certainty of all the knowledge we acquire.'"
   ]
  },
  {
   "cell_type": "markdown",
   "metadata": {},
   "source": [
    "Fill in the cell below such that the variable `q1_allcapitals` is a string that contains the same text as `q1plaintext` but where each letter is capitalized. You should use a string method to answer this problem."
   ]
  },
  {
   "cell_type": "code",
   "execution_count": null,
   "metadata": {},
   "outputs": [],
   "source": [
    "q1_allcapitals = ...\n",
    "print(q1_allcapitals)"
   ]
  },
  {
   "cell_type": "markdown",
   "metadata": {},
   "source": [
    "Next, fill in the cell below so the variable `q1_nospaces` is a string that contains the same text as `q1_allcapitals`, only all the spaces have been removed. You should use a string method to answer this problem."
   ]
  },
  {
   "cell_type": "code",
   "execution_count": null,
   "metadata": {},
   "outputs": [],
   "source": [
    "q1_nospaces = ...\n",
    "print(q1_nospaces)"
   ]
  },
  {
   "cell_type": "markdown",
   "metadata": {},
   "source": [
    "Next, fill in the cell below so the variable `q1_oneword` is a string that contains only the word *FOUNDATION* and was obtained from using string slicing on the variable `q1_nospaces`."
   ]
  },
  {
   "cell_type": "code",
   "execution_count": null,
   "metadata": {},
   "outputs": [],
   "source": [
    "q1_oneword = ...\n",
    "print(q1_oneword)"
   ]
  },
  {
   "cell_type": "markdown",
   "metadata": {},
   "source": [
    "Lastly, fill in the cell below so the variable `q1_lettercount` is an integer that represents the number of lowercase `t`'s there are in the string `q1plaintext`. You should use a string method to determine this value."
   ]
  },
  {
   "cell_type": "code",
   "execution_count": null,
   "metadata": {},
   "outputs": [],
   "source": [
    "q1_lettercount = ...\n",
    "print(q1_lettercount)"
   ]
  },
  {
   "cell_type": "markdown",
   "metadata": {},
   "source": [
    "## 2. Conditional Statements\n",
    "*Recommended Reading: Chapter 3.2.6*\n",
    "\n",
    "Let's start by assigning random integer values to variables `x` and `y`:"
   ]
  },
  {
   "cell_type": "code",
   "execution_count": 26,
   "metadata": {},
   "outputs": [],
   "source": [
    "# Don't modify this cell, just run it.\n",
    "# Each time you run it it will obtain random values for x and y\n",
    "import random\n",
    "x = random.randint(5,10)\n",
    "y = random.randint(2,15)"
   ]
  },
  {
   "cell_type": "markdown",
   "metadata": {},
   "source": [
    "Fill in the cell below such that when run it does the following:\n",
    "1. Prints the value of `x`\n",
    "2. Prints the value of `y`\n",
    "3. Uses an  `if` statement to check if `x` is greater than `y`. \n",
    "4. If `x` is greater than `y` print `x is greater than y`\n",
    "5. If `x` is equal to `y` print `x is equal to y`\n",
    "6. If `y` is greater than `x` print `y is greater than x`\n",
    "\n",
    "Your code should include one `else` statement"
   ]
  },
  {
   "cell_type": "code",
   "execution_count": null,
   "metadata": {},
   "outputs": [],
   "source": [
    "# I'll give you the first line for free\n",
    "print(x)\n",
    "# You fill in the rest\n",
    "..."
   ]
  },
  {
   "cell_type": "markdown",
   "metadata": {},
   "source": [
    "# 3. Loops\n",
    "*Recommended Reading: Chapter 3.3*\n",
    "\n",
    "## For Loops\n",
    "Complete the cell below with a `for` loop that adds the odd numbers between 3 and 119 (including 3 and 119) to the variable `counter`, then print the value of `counter`. This loop should also use the `range()` function to set up the iteration."
   ]
  },
  {
   "cell_type": "code",
   "execution_count": null,
   "metadata": {},
   "outputs": [],
   "source": [
    "counter = 0\n",
    "\n",
    "...\n",
    "\n",
    "print ( counter )"
   ]
  },
  {
   "cell_type": "markdown",
   "metadata": {},
   "source": [
    "## While Loops\n",
    "Use a `while` loop to perform the __reverse cipher__ on whatever string is stored to `q3plaintext`. The reversed string should be stored to the string `q3ciphertext` which starts empty."
   ]
  },
  {
   "cell_type": "code",
   "execution_count": null,
   "metadata": {},
   "outputs": [],
   "source": [
    "q3plaintext = 'turing'\n",
    "q3ciphertext = ''\n",
    "...\n",
    "print( q3ciphertext) "
   ]
  },
  {
   "cell_type": "markdown",
   "metadata": {},
   "source": [
    "# How to Submit\n",
    "Once you've completed all the needed cells, you should download this file as an .ipynb file and submit to Canvas."
   ]
  }
 ],
 "metadata": {
  "kernelspec": {
   "display_name": "Python 3",
   "language": "python",
   "name": "python3"
  },
  "language_info": {
   "codemirror_mode": {
    "name": "ipython",
    "version": 3
   },
   "file_extension": ".py",
   "mimetype": "text/x-python",
   "name": "python",
   "nbconvert_exporter": "python",
   "pygments_lexer": "ipython3",
   "version": "3.7.3"
  }
 },
 "nbformat": 4,
 "nbformat_minor": 4
}
